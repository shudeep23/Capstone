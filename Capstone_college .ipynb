{
 "cells": [
  {
   "cell_type": "code",
   "execution_count": 1,
   "metadata": {},
   "outputs": [],
   "source": [
    "#Import Statements\n",
    "\n",
    "import pandas as pd\n",
    "import numpy as np\n",
    "import matplotlib.pyplot as plt\n",
    "import seaborn as sns\n",
    "import statsmodels.api as sm"
   ]
  },
  {
   "cell_type": "code",
   "execution_count": 43,
   "metadata": {},
   "outputs": [],
   "source": [
    "from sklearn.ensemble import RandomForestClassifier\n",
    "from sklearn.linear_model import LogisticRegression\n",
    "from sklearn.preprocessing import StandardScaler\n",
    "from sklearn.feature_selection import RFE\n",
    "from sklearn.model_selection import train_test_split"
   ]
  },
  {
   "cell_type": "code",
   "execution_count": 3,
   "metadata": {},
   "outputs": [],
   "source": [
    "from sklearn.metrics import accuracy_score, roc_curve, roc_auc_score, confusion_matrix \n",
    "from sklearn.metrics import classification_report, precision_recall_curve, auc"
   ]
  },
  {
   "cell_type": "code",
   "execution_count": 4,
   "metadata": {},
   "outputs": [
    {
     "name": "stderr",
     "output_type": "stream",
     "text": [
      "C:\\Users\\airshu23\\Anaconda3\\lib\\site-packages\\IPython\\core\\interactiveshell.py:2728: DtypeWarning: Columns (5,16,17,19,20,22,23,24,25,26,52,68,102,108,116,118,120,122,124,130,136,137,138,523,525,543,546,612,664) have mixed types. Specify dtype option on import or set low_memory=False.\n",
      "  interactivity=interactivity, compiler=compiler, result=result)\n"
     ]
    }
   ],
   "source": [
    "# read datafile\n",
    "raw_df = pd.read_csv('C:/Users/airshu23/Desktop/Capstone2/ICPSR_20520/DS0001/Data.tsv', sep='\\t')"
   ]
  },
  {
   "cell_type": "code",
   "execution_count": 5,
   "metadata": {},
   "outputs": [],
   "source": [
    "# Establish index to CASEID\n",
    "raw_df.set_index('CASEID', inplace = True)"
   ]
  },
  {
   "cell_type": "markdown",
   "metadata": {},
   "source": [
    "## Data Wrangling"
   ]
  },
  {
   "cell_type": "code",
   "execution_count": 6,
   "metadata": {},
   "outputs": [],
   "source": [
    "# copy into new dataframe for modification\n",
    "df = raw_df.copy()"
   ]
  },
  {
   "cell_type": "code",
   "execution_count": 7,
   "metadata": {},
   "outputs": [],
   "source": [
    "# get columns for entire dataset\n",
    "variables = list(df.columns)"
   ]
  },
  {
   "cell_type": "code",
   "execution_count": 8,
   "metadata": {},
   "outputs": [],
   "source": [
    "# convert all entries to string so that the function in the next cell runs properly\n",
    "df[variables] = df[variables].astype(str)"
   ]
  },
  {
   "cell_type": "code",
   "execution_count": 9,
   "metadata": {},
   "outputs": [],
   "source": [
    "#check for alphabet in column values\n",
    "def check(series):\n",
    "    \n",
    "    if series.str.contains('[a-z]', regex = True).sum() > 0:\n",
    "        return True\n",
    "    return False\n"
   ]
  },
  {
   "cell_type": "code",
   "execution_count": 10,
   "metadata": {},
   "outputs": [
    {
     "name": "stdout",
     "output_type": "stream",
     "text": [
      "['V401A', 'V401B', 'V402B', 'V404A', 'V407B', 'V408F', 'V408I', 'V408L', 'V408O', 'V409B', 'V409C', 'V410', 'V410B', 'V414A1', 'V415A1', 'V416A', 'V417A', 'V418A', 'V425A', 'V427A', 'V436A', 'V438A', 'V439A', 'V439B', 'V443A']\n"
     ]
    }
   ],
   "source": [
    "# list of columns to drop from df\n",
    "dropped = []\n",
    "\n",
    "# gather all columns with non-digit strings (a-z)\n",
    "for var in variables:\n",
    "    if check(df[var]) == True:\n",
    "        dropped.append(var)\n",
    "        \n",
    "print(dropped)"
   ]
  },
  {
   "cell_type": "code",
   "execution_count": 11,
   "metadata": {},
   "outputs": [],
   "source": [
    "# remove variables with alphabet characters\n",
    "df.drop(dropped, inplace = True, axis=1)"
   ]
  },
  {
   "cell_type": "code",
   "execution_count": 12,
   "metadata": {},
   "outputs": [],
   "source": [
    "#get columns from df\n",
    "cols = list(df.columns)\n",
    "\n",
    "# convert entries to numeric\n",
    "df[cols] = df[cols].apply(pd.to_numeric, errors='coerce')"
   ]
  },
  {
   "cell_type": "code",
   "execution_count": 13,
   "metadata": {},
   "outputs": [
    {
     "data": {
      "text/html": [
       "<div>\n",
       "<style scoped>\n",
       "    .dataframe tbody tr th:only-of-type {\n",
       "        vertical-align: middle;\n",
       "    }\n",
       "\n",
       "    .dataframe tbody tr th {\n",
       "        vertical-align: top;\n",
       "    }\n",
       "\n",
       "    .dataframe thead th {\n",
       "        text-align: right;\n",
       "    }\n",
       "</style>\n",
       "<table border=\"1\" class=\"dataframe\">\n",
       "  <thead>\n",
       "    <tr style=\"text-align: right;\">\n",
       "      <th></th>\n",
       "      <th>V1</th>\n",
       "      <th>V2</th>\n",
       "      <th>V4</th>\n",
       "      <th>V5</th>\n",
       "      <th>V7</th>\n",
       "      <th>V8</th>\n",
       "      <th>V9</th>\n",
       "      <th>V10</th>\n",
       "      <th>V11</th>\n",
       "      <th>V13</th>\n",
       "      <th>...</th>\n",
       "      <th>V448G</th>\n",
       "      <th>V448H</th>\n",
       "      <th>V448I</th>\n",
       "      <th>V448J</th>\n",
       "      <th>V448K</th>\n",
       "      <th>V448L</th>\n",
       "      <th>V448M</th>\n",
       "      <th>V448N</th>\n",
       "      <th>V449</th>\n",
       "      <th>V450</th>\n",
       "    </tr>\n",
       "    <tr>\n",
       "      <th>CASEID</th>\n",
       "      <th></th>\n",
       "      <th></th>\n",
       "      <th></th>\n",
       "      <th></th>\n",
       "      <th></th>\n",
       "      <th></th>\n",
       "      <th></th>\n",
       "      <th></th>\n",
       "      <th></th>\n",
       "      <th></th>\n",
       "      <th></th>\n",
       "      <th></th>\n",
       "      <th></th>\n",
       "      <th></th>\n",
       "      <th></th>\n",
       "      <th></th>\n",
       "      <th></th>\n",
       "      <th></th>\n",
       "      <th></th>\n",
       "      <th></th>\n",
       "      <th></th>\n",
       "    </tr>\n",
       "  </thead>\n",
       "  <tbody>\n",
       "    <tr>\n",
       "      <th>1</th>\n",
       "      <td>257</td>\n",
       "      <td>1</td>\n",
       "      <td>7</td>\n",
       "      <td>8</td>\n",
       "      <td>1.0</td>\n",
       "      <td>NaN</td>\n",
       "      <td>44.0</td>\n",
       "      <td>85.0</td>\n",
       "      <td>NaN</td>\n",
       "      <td>1.0</td>\n",
       "      <td>...</td>\n",
       "      <td>0.0</td>\n",
       "      <td>0.0</td>\n",
       "      <td>0.0</td>\n",
       "      <td>0.0</td>\n",
       "      <td>0.0</td>\n",
       "      <td>0.0</td>\n",
       "      <td>0.0</td>\n",
       "      <td>0.0</td>\n",
       "      <td>2.0</td>\n",
       "      <td>13.0</td>\n",
       "    </tr>\n",
       "    <tr>\n",
       "      <th>2</th>\n",
       "      <td>2347</td>\n",
       "      <td>1</td>\n",
       "      <td>13</td>\n",
       "      <td>9</td>\n",
       "      <td>1.0</td>\n",
       "      <td>NaN</td>\n",
       "      <td>102.0</td>\n",
       "      <td>NaN</td>\n",
       "      <td>NaN</td>\n",
       "      <td>1.0</td>\n",
       "      <td>...</td>\n",
       "      <td>0.0</td>\n",
       "      <td>0.0</td>\n",
       "      <td>0.0</td>\n",
       "      <td>0.0</td>\n",
       "      <td>0.0</td>\n",
       "      <td>0.0</td>\n",
       "      <td>0.0</td>\n",
       "      <td>0.0</td>\n",
       "      <td>3.0</td>\n",
       "      <td>12.0</td>\n",
       "    </tr>\n",
       "    <tr>\n",
       "      <th>3</th>\n",
       "      <td>860</td>\n",
       "      <td>1</td>\n",
       "      <td>12</td>\n",
       "      <td>9</td>\n",
       "      <td>2.0</td>\n",
       "      <td>1.0</td>\n",
       "      <td>78.0</td>\n",
       "      <td>69.0</td>\n",
       "      <td>1.0</td>\n",
       "      <td>1.0</td>\n",
       "      <td>...</td>\n",
       "      <td>1.0</td>\n",
       "      <td>1.0</td>\n",
       "      <td>1.0</td>\n",
       "      <td>0.0</td>\n",
       "      <td>0.0</td>\n",
       "      <td>0.0</td>\n",
       "      <td>0.0</td>\n",
       "      <td>0.0</td>\n",
       "      <td>2.0</td>\n",
       "      <td>2.0</td>\n",
       "    </tr>\n",
       "    <tr>\n",
       "      <th>4</th>\n",
       "      <td>5178</td>\n",
       "      <td>3</td>\n",
       "      <td>20</td>\n",
       "      <td>9</td>\n",
       "      <td>1.0</td>\n",
       "      <td>NaN</td>\n",
       "      <td>82.0</td>\n",
       "      <td>78.0</td>\n",
       "      <td>1.0</td>\n",
       "      <td>1.0</td>\n",
       "      <td>...</td>\n",
       "      <td>0.0</td>\n",
       "      <td>0.0</td>\n",
       "      <td>0.0</td>\n",
       "      <td>0.0</td>\n",
       "      <td>0.0</td>\n",
       "      <td>0.0</td>\n",
       "      <td>1.0</td>\n",
       "      <td>0.0</td>\n",
       "      <td>1.0</td>\n",
       "      <td>5.0</td>\n",
       "    </tr>\n",
       "    <tr>\n",
       "      <th>5</th>\n",
       "      <td>1984</td>\n",
       "      <td>1</td>\n",
       "      <td>12</td>\n",
       "      <td>9</td>\n",
       "      <td>1.0</td>\n",
       "      <td>NaN</td>\n",
       "      <td>101.0</td>\n",
       "      <td>78.0</td>\n",
       "      <td>2.0</td>\n",
       "      <td>1.0</td>\n",
       "      <td>...</td>\n",
       "      <td>0.0</td>\n",
       "      <td>0.0</td>\n",
       "      <td>1.0</td>\n",
       "      <td>1.0</td>\n",
       "      <td>0.0</td>\n",
       "      <td>0.0</td>\n",
       "      <td>1.0</td>\n",
       "      <td>0.0</td>\n",
       "      <td>1.0</td>\n",
       "      <td>4.0</td>\n",
       "    </tr>\n",
       "  </tbody>\n",
       "</table>\n",
       "<p>5 rows × 639 columns</p>\n",
       "</div>"
      ],
      "text/plain": [
       "          V1  V2  V4  V5   V7   V8     V9   V10  V11  V13  ...  V448G  V448H  \\\n",
       "CASEID                                                     ...                 \n",
       "1        257   1   7   8  1.0  NaN   44.0  85.0  NaN  1.0  ...    0.0    0.0   \n",
       "2       2347   1  13   9  1.0  NaN  102.0   NaN  NaN  1.0  ...    0.0    0.0   \n",
       "3        860   1  12   9  2.0  1.0   78.0  69.0  1.0  1.0  ...    1.0    1.0   \n",
       "4       5178   3  20   9  1.0  NaN   82.0  78.0  1.0  1.0  ...    0.0    0.0   \n",
       "5       1984   1  12   9  1.0  NaN  101.0  78.0  2.0  1.0  ...    0.0    0.0   \n",
       "\n",
       "        V448I  V448J  V448K  V448L  V448M  V448N  V449  V450  \n",
       "CASEID                                                        \n",
       "1         0.0    0.0    0.0    0.0    0.0    0.0   2.0  13.0  \n",
       "2         0.0    0.0    0.0    0.0    0.0    0.0   3.0  12.0  \n",
       "3         1.0    0.0    0.0    0.0    0.0    0.0   2.0   2.0  \n",
       "4         0.0    0.0    0.0    0.0    1.0    0.0   1.0   5.0  \n",
       "5         1.0    1.0    0.0    0.0    1.0    0.0   1.0   4.0  \n",
       "\n",
       "[5 rows x 639 columns]"
      ]
     },
     "execution_count": 13,
     "metadata": {},
     "output_type": "execute_result"
    }
   ],
   "source": [
    "df.head(5)"
   ]
  },
  {
   "cell_type": "code",
   "execution_count": 14,
   "metadata": {},
   "outputs": [],
   "source": [
    "#non-continuous, non-ordinal variables to remove\n",
    "non_numerical = ['V204', 'V278A', 'P140', 'V37', 'V263', 'V1', 'V32', 'V233', 'V62']\n",
    "\n",
    "#percentiles of Stanford Achievement test. df has scores\n",
    "redundant = ['V132', 'V134' ]"
   ]
  },
  {
   "cell_type": "code",
   "execution_count": 15,
   "metadata": {},
   "outputs": [],
   "source": [
    "# remove variables with alphabet characters\n",
    "df.drop(non_numerical + redundant, inplace = True, axis=1)"
   ]
  },
  {
   "cell_type": "markdown",
   "metadata": {},
   "source": [
    "### Exploratory Data Analysis"
   ]
  },
  {
   "cell_type": "code",
   "execution_count": 16,
   "metadata": {},
   "outputs": [
    {
     "data": {
      "image/png": "[encoded data removed]",
      "text/plain": [
       "<Figure size 288x360 with 1 Axes>"
      ]
     },
     "metadata": {},
     "output_type": "display_data"
    }
   ],
   "source": [
    "#Barplot of \n",
    "\n",
    "college_count  = df['V448M'].value_counts()\n",
    "college_count.index = ['No', 'Yes']\n",
    "\n",
    "plt.figure(figsize=(4,5))\n",
    "sns.barplot(college_count.index, college_count.values, alpha=0.8)\n",
    "plt.ylabel('Number of Occurrences', fontsize=12)\n",
    "plt.xlabel('College Completion', fontsize=12)\n",
    "plt.show()"
   ]
  },
  {
   "cell_type": "code",
   "execution_count": 17,
   "metadata": {},
   "outputs": [],
   "source": [
    "# plot counts of college completion grouped by student's expectation\n",
    "\n",
    "test = df[[\"V261\",\"V448M\"]]\n"
   ]
  },
  {
   "cell_type": "code",
   "execution_count": 18,
   "metadata": {},
   "outputs": [],
   "source": [
    "#helper functions to convert values\n",
    "def convert(value):\n",
    "    if value == 1:\n",
    "        return 'Yes'\n",
    "    elif value == 0:\n",
    "        return 'No'\n",
    "\n",
    "def levels(value):\n",
    "    if value == 1:\n",
    "        return \"Less than high school\"\n",
    "    elif value == 2:\n",
    "        return \"Finish high school\"\n",
    "    elif value == 3:\n",
    "        return \"Finish some college\"\n",
    "    elif value == 4:\n",
    "        return \"Finish college\"\n",
    "    elif value == 5:\n",
    "        return \"Finish a graduate degree\""
   ]
  },
  {
   "cell_type": "code",
   "execution_count": 19,
   "metadata": {},
   "outputs": [
    {
     "name": "stderr",
     "output_type": "stream",
     "text": [
      "C:\\Users\\airshu23\\Anaconda3\\lib\\site-packages\\ipykernel_launcher.py:1: SettingWithCopyWarning: \n",
      "A value is trying to be set on a copy of a slice from a DataFrame.\n",
      "Try using .loc[row_indexer,col_indexer] = value instead\n",
      "\n",
      "See the caveats in the documentation: http://pandas.pydata.org/pandas-docs/stable/indexing.html#indexing-view-versus-copy\n",
      "  \"\"\"Entry point for launching an IPython kernel.\n",
      "C:\\Users\\airshu23\\Anaconda3\\lib\\site-packages\\ipykernel_launcher.py:2: SettingWithCopyWarning: \n",
      "A value is trying to be set on a copy of a slice from a DataFrame.\n",
      "Try using .loc[row_indexer,col_indexer] = value instead\n",
      "\n",
      "See the caveats in the documentation: http://pandas.pydata.org/pandas-docs/stable/indexing.html#indexing-view-versus-copy\n",
      "  \n"
     ]
    }
   ],
   "source": [
    "test[\"Student's Expectation\"] = test.loc[ : ,\"V261\"].apply(levels)\n",
    "test[\"College Completion\"] = test.loc[ : , \"V448M\"].apply(convert)"
   ]
  },
  {
   "cell_type": "code",
   "execution_count": 20,
   "metadata": {},
   "outputs": [
    {
     "data": {
      "image/png": "[encoded data removed]",
      "text/plain": [
       "<Figure size 720x504 with 1 Axes>"
      ]
     },
     "metadata": {},
     "output_type": "display_data"
    }
   ],
   "source": [
    "plt.figure(figsize=(10,7))\n",
    "sns.countplot(x=\"Student's Expectation\", hue=\"College Completion\", order=[\"Less than high school\", \"Finish high school\",\n",
    "              \"Finish some college\", \"Finish college\", \"Finish a graduate degree\"], data=test)\n",
    "\n",
    "plt.show()"
   ]
  },
  {
   "cell_type": "code",
   "execution_count": 42,
   "metadata": {},
   "outputs": [
    {
     "data": {
      "text/plain": [
       "Text(0,0.5,\"Student's Expectation\")"
      ]
     },
     "execution_count": 42,
     "metadata": {},
     "output_type": "execute_result"
    },
    {
     "data": {
      "image/png": "[encoded data removed]",
      "text/plain": [
       "<Figure size 1008x432 with 1 Axes>"
      ]
     },
     "metadata": {},
     "output_type": "display_data"
    }
   ],
   "source": [
    "# Violon Plots\n",
    "f, (ax) = plt.subplots(1, 1, figsize=(14, 6))\n",
    "f.suptitle(\"Parent's Educational Expectation for Child vs Child's Expectation\", fontsize=14)\n",
    "\n",
    "sns.violinplot(x=\"P132\", y=\"V261\", data=df,  ax=ax)\n",
    "ax.set_xlabel(\"Parent's Expectation\",size = 12,alpha=0.8)\n",
    "ax.set_ylabel(\"Student's Expectation\",size = 12,alpha=0.8)"
   ]
  },
  {
   "cell_type": "code",
   "execution_count": 22,
   "metadata": {},
   "outputs": [],
   "source": [
    "# job's prestige score Grouped by race/ethnicity\n",
    "\n",
    "avg_by_ethnicity = df.groupby('V323A')[['V448M']].mean()"
   ]
  },
  {
   "cell_type": "code",
   "execution_count": 23,
   "metadata": {},
   "outputs": [],
   "source": [
    "s = pd.Series(['White', 'Black', 'Asian', 'Multiracial', 'Hispanic', 'Nationality', 'Other'])"
   ]
  },
  {
   "cell_type": "code",
   "execution_count": 24,
   "metadata": {},
   "outputs": [
    {
     "data": {
      "text/plain": [
       "Text(0.5,1,'Average College Completion')"
      ]
     },
     "execution_count": 24,
     "metadata": {},
     "output_type": "execute_result"
    },
    {
     "data": {
      "image/png": "[encoded data removed]",
      "text/plain": [
       "<Figure size 720x432 with 1 Axes>"
      ]
     },
     "metadata": {},
     "output_type": "display_data"
    }
   ],
   "source": [
    "ax4 = avg_by_ethnicity.set_index(s).plot.bar(rot = 45, legend = False, figsize = (10,6))\n",
    "ax4.set_title('Average College Completion')"
   ]
  },
  {
   "cell_type": "markdown",
   "metadata": {},
   "source": [
    "### Pre-processing"
   ]
  },
  {
   "cell_type": "markdown",
   "metadata": {},
   "source": [
    "<div class=\"span5 alert alert-info\">\n",
    "<font color=green>First drop 'outcome' variables from last followup survey. I am removing variables such as job prestige score and income I do not want any retrospective variables.</font>"
   ]
  },
  {
   "cell_type": "code",
   "execution_count": 98,
   "metadata": {},
   "outputs": [],
   "source": [
    "features = list(df.columns)\n",
    "\n",
    "# get index of first year 2005 follow-up variable\n",
    "first_2005 = features.index('V400')\n",
    "\n",
    "# get index of last year 2005 follow-up variable\n",
    "last_2005 = features.index('V450')"
   ]
  },
  {
   "cell_type": "code",
   "execution_count": 99,
   "metadata": {},
   "outputs": [],
   "source": [
    "#all variables from 2005 followup\n",
    "variables_2005 = set(features[first_2005:last_2005+1])\n",
    "\n",
    "#target variable to keep\n",
    "keep_2005 = set(['V448M'])\n",
    "\n",
    "# remove 2005 variables V448M\n",
    "drop_2005 = list(variables_2005.difference(keep_2005))\n",
    "\n",
    "#drop from column headers above\n",
    "df1 = df.drop(drop_2005, axis=1)\n"
   ]
  },
  {
   "cell_type": "code",
   "execution_count": 100,
   "metadata": {},
   "outputs": [
    {
     "name": "stdout",
     "output_type": "stream",
     "text": [
      "(5262, 529)\n"
     ]
    }
   ],
   "source": [
    "print (df1.shape)"
   ]
  },
  {
   "cell_type": "markdown",
   "metadata": {},
   "source": [
    "<div class=\"span5 alert alert-info\">\n",
    "<font color=green>Drop observations that do not have parental survey and college indicator.</font>"
   ]
  },
  {
   "cell_type": "code",
   "execution_count": 101,
   "metadata": {},
   "outputs": [],
   "source": [
    "# remove rows that do not have target variable - college completion\n",
    "df1 = df1[pd.notnull(df1['V448M'])]\n",
    "\n",
    "# remove rows that do not have parental survey completed\n",
    "df1 = df1[pd.notnull(df1['P2A'])]"
   ]
  },
  {
   "cell_type": "code",
   "execution_count": 102,
   "metadata": {},
   "outputs": [
    {
     "name": "stdout",
     "output_type": "stream",
     "text": [
      "(1703, 529)\n"
     ]
    }
   ],
   "source": [
    "print (df1.shape)"
   ]
  },
  {
   "cell_type": "markdown",
   "metadata": {},
   "source": [
    "<div class=\"span5 alert alert-info\">\n",
    "<font color=green>Drop highly correlated features. </font>"
   ]
  },
  {
   "cell_type": "code",
   "execution_count": 103,
   "metadata": {},
   "outputs": [],
   "source": [
    "# Create correlation matrix\n",
    "corr_matrix = df1.corr().abs()\n",
    "\n",
    "# Select upper triangle of correlation matrix\n",
    "upper = corr_matrix.where(np.triu(np.ones(corr_matrix.shape), k=1).astype(np.bool))\n",
    "\n",
    "# Find index of feature columns with correlation greater than 0.95\n",
    "to_drop = [column for column in upper.columns if any(upper[column] > 0.95)]"
   ]
  },
  {
   "cell_type": "code",
   "execution_count": 104,
   "metadata": {},
   "outputs": [],
   "source": [
    "# Drop features \n",
    "df1 = df1.drop(to_drop, axis=1)"
   ]
  },
  {
   "cell_type": "markdown",
   "metadata": {},
   "source": [
    "<div class=\"span5 alert alert-info\">\n",
    "<font color=green> Removing columns that have less than 25% of the column entries filled with missing values . </font>"
   ]
  },
  {
   "cell_type": "code",
   "execution_count": 105,
   "metadata": {},
   "outputs": [
    {
     "name": "stdout",
     "output_type": "stream",
     "text": [
      "(1703, 401)\n"
     ]
    }
   ],
   "source": [
    "# missing values\n",
    "test1 = df1.isnull().sum() / len(df1)\n",
    "\n",
    "#all columns where number of missing values exceed 25%\n",
    "testing = test1[test1>=0.25]\n",
    "\n",
    "#columns in original df that have below 75% of values that is n/a \n",
    "below75 = list(testing.index.values)\n",
    "\n",
    "#drop from column headers above\n",
    "df2 = df1.drop(below75, axis=1)\n",
    "\n",
    "print (df2.shape)\n"
   ]
  },
  {
   "cell_type": "code",
   "execution_count": 128,
   "metadata": {},
   "outputs": [],
   "source": [
    "# imputing values for missing entries\n",
    "df3 = df2.fillna(df2.median())"
   ]
  },
  {
   "cell_type": "code",
   "execution_count": 129,
   "metadata": {},
   "outputs": [],
   "source": [
    "# Create a set of dummy variables from categorical variables\n",
    "df3 = pd.get_dummies(df3, columns=['V2', 'V90','P14', 'P142'], drop_first = True)"
   ]
  },
  {
   "cell_type": "code",
   "execution_count": 130,
   "metadata": {},
   "outputs": [],
   "source": [
    "#Convert original values\n",
    "df3['V324E'] = np.where(df3['V324E']== 1.0, 1.0, 0.0)\n",
    "\n",
    "#Stuff for P62D\n",
    "df3['P62D'] = np.where(df3['P62D']== 1.0, 1.0, 0.0)"
   ]
  },
  {
   "cell_type": "code",
   "execution_count": 131,
   "metadata": {},
   "outputs": [
    {
     "data": {
      "text/plain": [
       "False"
      ]
     },
     "execution_count": 131,
     "metadata": {},
     "output_type": "execute_result"
    }
   ],
   "source": [
    "df3.isnull().values.any()"
   ]
  },
  {
   "cell_type": "markdown",
   "metadata": {},
   "source": [
    "# Implementing Models"
   ]
  },
  {
   "cell_type": "code",
   "execution_count": 132,
   "metadata": {},
   "outputs": [],
   "source": [
    "# split into feature and target variable\n",
    "\n",
    "X = df3.drop('V448M', axis = 1)\n",
    "y = df3['V448M']"
   ]
  },
  {
   "cell_type": "code",
   "execution_count": 133,
   "metadata": {},
   "outputs": [],
   "source": [
    "#split into train and test sets\n",
    "X_train, X_test, y_train, y_test = train_test_split(X, y, test_size=0.20, random_state=77)"
   ]
  },
  {
   "cell_type": "code",
   "execution_count": 134,
   "metadata": {},
   "outputs": [],
   "source": [
    "# Create standardizer\n",
    "standardizer = StandardScaler()\n",
    "\n",
    "# Fit standardizer to training set \n",
    "standardizer.fit(X_train)\n",
    "\n",
    "# Apply to both training and test sets to be used in Random Forest Model\n",
    "X_train_std = standardizer.transform(X_train)\n",
    "X_test_std = standardizer.transform(X_test)"
   ]
  },
  {
   "cell_type": "markdown",
   "metadata": {},
   "source": [
    "## Dimensionality Reduction using Recursive Feature Elimination"
   ]
  },
  {
   "cell_type": "markdown",
   "metadata": {},
   "source": [
    "<div class=\"span5 alert alert-info\">\n",
    "<font color=green> Choosing 20 variables that produce the best results. Logistic regression is as used as input inside recursive feature elimination function. </font>"
   ]
  },
  {
   "cell_type": "code",
   "execution_count": 135,
   "metadata": {},
   "outputs": [],
   "source": [
    "logit = LogisticRegression(C=1e8) ## chose high c-value to match results from statsmodels logistic regression\n",
    "rfe = RFE(logit, 20)\n",
    "rfe = rfe.fit(X_train, y_train)"
   ]
  },
  {
   "cell_type": "code",
   "execution_count": 136,
   "metadata": {},
   "outputs": [],
   "source": [
    "# get indices of columns chosen in step above\n",
    "col_indices = rfe.get_support(indices=True).tolist()\n",
    "\n",
    "#Select only the top 20 variables from orignial dataframe\n",
    "X_train_reduced = X_train.iloc[:, col_indices]\n",
    "X_test_reduced = X_test.iloc[:, col_indices]"
   ]
  },
  {
   "cell_type": "markdown",
   "metadata": {},
   "source": [
    "## Logistic Model "
   ]
  },
  {
   "cell_type": "code",
   "execution_count": 150,
   "metadata": {},
   "outputs": [
    {
     "name": "stderr",
     "output_type": "stream",
     "text": [
      "C:\\Users\\airshu23\\Anaconda3\\lib\\site-packages\\numpy\\core\\fromnumeric.py:52: FutureWarning: Method .ptp is deprecated and will be removed in a future version. Use numpy.ptp instead.\n",
      "  return getattr(obj, method)(*args, **kwds)\n"
     ]
    },
    {
     "name": "stdout",
     "output_type": "stream",
     "text": [
      "Optimization terminated successfully.\n",
      "         Current function value: 0.525579\n",
      "         Iterations 9\n"
     ]
    }
   ],
   "source": [
    "# logistic model with constant term\n",
    "\n",
    "X_const = sm.add_constant(X_train_reduced)\n",
    "logit_model= sm.Logit(y_train, X_const)\n",
    "result=logit_model.fit()"
   ]
  },
  {
   "cell_type": "code",
   "execution_count": 138,
   "metadata": {},
   "outputs": [
    {
     "data": {
      "text/plain": [
       "LogisticRegression(C=100000000.0, class_weight=None, dual=False,\n",
       "          fit_intercept=True, intercept_scaling=1, max_iter=100,\n",
       "          multi_class='ovr', n_jobs=1, penalty='l2', random_state=None,\n",
       "          solver='liblinear', tol=0.0001, verbose=0, warm_start=False)"
      ]
     },
     "execution_count": 138,
     "metadata": {},
     "output_type": "execute_result"
    }
   ],
   "source": [
    "logreg = LogisticRegression(C=1e8) ## chose high c-value to match results from statsmodels logistic regression\n",
    "\n",
    "# Fit the classifier to the training data\n",
    "logreg.fit(X_train_reduced, y_train)"
   ]
  },
  {
   "cell_type": "markdown",
   "metadata": {},
   "source": [
    "<div class=\"span5 alert alert-info\">\n",
    "<font color=green> Displaying results of scikit learn's and Statsmodel's implementation of logistic model below to demonstrate rough equivalency. </font>"
   ]
  },
  {
   "cell_type": "code",
   "execution_count": 215,
   "metadata": {},
   "outputs": [
    {
     "data": {
      "text/html": [
       "<table class=\"simpletable\">\n",
       "<caption>Logit Regression Results</caption>\n",
       "<tr>\n",
       "  <th>Dep. Variable:</th>       <td>V448M</td>      <th>  No. Observations:  </th>  <td>  1362</td>  \n",
       "</tr>\n",
       "<tr>\n",
       "  <th>Model:</th>               <td>Logit</td>      <th>  Df Residuals:      </th>  <td>  1342</td>  \n",
       "</tr>\n",
       "<tr>\n",
       "  <th>Method:</th>               <td>MLE</td>       <th>  Df Model:          </th>  <td>    19</td>  \n",
       "</tr>\n",
       "<tr>\n",
       "  <th>Date:</th>          <td>Sat, 30 Mar 2019</td> <th>  Pseudo R-squ.:     </th>  <td>0.2079</td>  \n",
       "</tr>\n",
       "<tr>\n",
       "  <th>Time:</th>              <td>01:47:37</td>     <th>  Log-Likelihood:    </th> <td> -715.84</td> \n",
       "</tr>\n",
       "<tr>\n",
       "  <th>converged:</th>           <td>True</td>       <th>  LL-Null:           </th> <td> -903.69</td> \n",
       "</tr>\n",
       "<tr>\n",
       "  <th> </th>                      <td> </td>        <th>  LLR p-value:       </th> <td>4.887e-68</td>\n",
       "</tr>\n",
       "</table>\n",
       "<table class=\"simpletable\">\n",
       "<tr>\n",
       "     <td></td>        <th>coef</th>     <th>std err</th>      <th>z</th>      <th>P>|z|</th>  <th>[0.025</th>    <th>0.975]</th>  \n",
       "</tr>\n",
       "<tr>\n",
       "  <th>V25</th>     <td>   -1.1479</td> <td>    0.338</td> <td>   -3.393</td> <td> 0.001</td> <td>   -1.811</td> <td>   -0.485</td>\n",
       "</tr>\n",
       "<tr>\n",
       "  <th>V74F</th>    <td>    0.5472</td> <td>    0.239</td> <td>    2.288</td> <td> 0.022</td> <td>    0.078</td> <td>    1.016</td>\n",
       "</tr>\n",
       "<tr>\n",
       "  <th>V114</th>    <td>   -0.1956</td> <td>    0.151</td> <td>   -1.299</td> <td> 0.194</td> <td>   -0.491</td> <td>    0.099</td>\n",
       "</tr>\n",
       "<tr>\n",
       "  <th>V116</th>    <td>   -0.1046</td> <td>    0.123</td> <td>   -0.850</td> <td> 0.395</td> <td>   -0.346</td> <td>    0.136</td>\n",
       "</tr>\n",
       "<tr>\n",
       "  <th>V288</th>    <td>    7.2405</td> <td>    8.583</td> <td>    0.844</td> <td> 0.399</td> <td>   -9.582</td> <td>   24.063</td>\n",
       "</tr>\n",
       "<tr>\n",
       "  <th>V289</th>    <td>    7.2972</td> <td>    8.596</td> <td>    0.849</td> <td> 0.396</td> <td>   -9.550</td> <td>   24.144</td>\n",
       "</tr>\n",
       "<tr>\n",
       "  <th>V290</th>    <td>    7.2989</td> <td>    8.586</td> <td>    0.850</td> <td> 0.395</td> <td>   -9.528</td> <td>   24.126</td>\n",
       "</tr>\n",
       "<tr>\n",
       "  <th>V291</th>    <td>   -0.8981</td> <td>    0.391</td> <td>   -2.297</td> <td> 0.022</td> <td>   -1.664</td> <td>   -0.132</td>\n",
       "</tr>\n",
       "<tr>\n",
       "  <th>V292</th>    <td>   -0.8286</td> <td>    0.389</td> <td>   -2.128</td> <td> 0.033</td> <td>   -1.592</td> <td>   -0.065</td>\n",
       "</tr>\n",
       "<tr>\n",
       "  <th>V293</th>    <td>   -0.9315</td> <td>    0.391</td> <td>   -2.381</td> <td> 0.017</td> <td>   -1.698</td> <td>   -0.165</td>\n",
       "</tr>\n",
       "<tr>\n",
       "  <th>V324E</th>   <td>   -0.7321</td> <td>    0.268</td> <td>   -2.727</td> <td> 0.006</td> <td>   -1.258</td> <td>   -0.206</td>\n",
       "</tr>\n",
       "<tr>\n",
       "  <th>V332</th>    <td>    1.2080</td> <td>    0.091</td> <td>   13.260</td> <td> 0.000</td> <td>    1.029</td> <td>    1.387</td>\n",
       "</tr>\n",
       "<tr>\n",
       "  <th>V337</th>    <td>   -0.7311</td> <td>    0.409</td> <td>   -1.788</td> <td> 0.074</td> <td>   -1.532</td> <td>    0.070</td>\n",
       "</tr>\n",
       "<tr>\n",
       "  <th>P1</th>      <td>    6.9569</td> <td>    5.787</td> <td>    1.202</td> <td> 0.229</td> <td>   -4.386</td> <td>   18.300</td>\n",
       "</tr>\n",
       "<tr>\n",
       "  <th>C4</th>      <td>    1.7541</td> <td>    0.355</td> <td>    4.941</td> <td> 0.000</td> <td>    1.058</td> <td>    2.450</td>\n",
       "</tr>\n",
       "<tr>\n",
       "  <th>C14</th>     <td>    0.2637</td> <td>    0.253</td> <td>    1.043</td> <td> 0.297</td> <td>   -0.232</td> <td>    0.759</td>\n",
       "</tr>\n",
       "<tr>\n",
       "  <th>C18</th>     <td>  -21.6147</td> <td>   25.759</td> <td>   -0.839</td> <td> 0.401</td> <td>  -72.101</td> <td>   28.871</td>\n",
       "</tr>\n",
       "<tr>\n",
       "  <th>C19</th>     <td>   -2.5929</td> <td>    1.152</td> <td>   -2.251</td> <td> 0.024</td> <td>   -4.851</td> <td>   -0.335</td>\n",
       "</tr>\n",
       "<tr>\n",
       "  <th>V2_4</th>    <td>   -1.2382</td> <td>    0.151</td> <td>   -8.190</td> <td> 0.000</td> <td>   -1.534</td> <td>   -0.942</td>\n",
       "</tr>\n",
       "<tr>\n",
       "  <th>P14_3.0</th> <td>   -1.2512</td> <td>    0.864</td> <td>   -1.449</td> <td> 0.147</td> <td>   -2.944</td> <td>    0.441</td>\n",
       "</tr>\n",
       "</table>"
      ],
      "text/plain": [
       "<class 'statsmodels.iolib.summary.Summary'>\n",
       "\"\"\"\n",
       "                           Logit Regression Results                           \n",
       "==============================================================================\n",
       "Dep. Variable:                  V448M   No. Observations:                 1362\n",
       "Model:                          Logit   Df Residuals:                     1342\n",
       "Method:                           MLE   Df Model:                           19\n",
       "Date:                Sat, 30 Mar 2019   Pseudo R-squ.:                  0.2079\n",
       "Time:                        01:47:37   Log-Likelihood:                -715.84\n",
       "converged:                       True   LL-Null:                       -903.69\n",
       "                                        LLR p-value:                 4.887e-68\n",
       "==============================================================================\n",
       "                 coef    std err          z      P>|z|      [0.025      0.975]\n",
       "------------------------------------------------------------------------------\n",
       "V25           -1.1479      0.338     -3.393      0.001      -1.811      -0.485\n",
       "V74F           0.5472      0.239      2.288      0.022       0.078       1.016\n",
       "V114          -0.1956      0.151     -1.299      0.194      -0.491       0.099\n",
       "V116          -0.1046      0.123     -0.850      0.395      -0.346       0.136\n",
       "V288           7.2405      8.583      0.844      0.399      -9.582      24.063\n",
       "V289           7.2972      8.596      0.849      0.396      -9.550      24.144\n",
       "V290           7.2989      8.586      0.850      0.395      -9.528      24.126\n",
       "V291          -0.8981      0.391     -2.297      0.022      -1.664      -0.132\n",
       "V292          -0.8286      0.389     -2.128      0.033      -1.592      -0.065\n",
       "V293          -0.9315      0.391     -2.381      0.017      -1.698      -0.165\n",
       "V324E         -0.7321      0.268     -2.727      0.006      -1.258      -0.206\n",
       "V332           1.2080      0.091     13.260      0.000       1.029       1.387\n",
       "V337          -0.7311      0.409     -1.788      0.074      -1.532       0.070\n",
       "P1             6.9569      5.787      1.202      0.229      -4.386      18.300\n",
       "C4             1.7541      0.355      4.941      0.000       1.058       2.450\n",
       "C14            0.2637      0.253      1.043      0.297      -0.232       0.759\n",
       "C18          -21.6147     25.759     -0.839      0.401     -72.101      28.871\n",
       "C19           -2.5929      1.152     -2.251      0.024      -4.851      -0.335\n",
       "V2_4          -1.2382      0.151     -8.190      0.000      -1.534      -0.942\n",
       "P14_3.0       -1.2512      0.864     -1.449      0.147      -2.944       0.441\n",
       "==============================================================================\n",
       "\"\"\""
      ]
     },
     "execution_count": 215,
     "metadata": {},
     "output_type": "execute_result"
    }
   ],
   "source": [
    "result.summary()"
   ]
  },
  {
   "cell_type": "code",
   "execution_count": 205,
   "metadata": {},
   "outputs": [],
   "source": [
    "# the two variables used in logistic model\n",
    "used_columns = X_train_reduced.columns.values\n",
    "\n",
    "# only p-values significant at 5% (indexed by column name)\n",
    "p_val = result.pvalues.loc[result.pvalues <= 0.05]"
   ]
  },
  {
   "cell_type": "code",
   "execution_count": 260,
   "metadata": {},
   "outputs": [],
   "source": [
    "# list of column names \n",
    "p_val_idx = p_val.index.tolist()\n",
    "\n",
    "true_idx = [i for i in range(len(used_columns)) if used_columns[i] in p_val_idx]"
   ]
  },
  {
   "cell_type": "code",
   "execution_count": 264,
   "metadata": {},
   "outputs": [],
   "source": [
    "logit_results = pd.DataFrame({'Statsmodel Coefficients' : np.round(coeff[true_idx], 5),\n",
    "                               'P-Values': P_val_list})"
   ]
  },
  {
   "cell_type": "code",
   "execution_count": 265,
   "metadata": {},
   "outputs": [
    {
     "name": "stdout",
     "output_type": "stream",
     "text": [
      "       Statsmodel Coefficients     P-Values:\n",
      "V25                   -1.14793  6.912039e-04\n",
      "V74F                   0.54725  2.213236e-02\n",
      "V291                  -0.89812  2.161620e-02\n",
      "V292                  -0.82856  3.333917e-02\n",
      "V293                  -0.93151  1.727905e-02\n",
      "V324E                 -0.73208  6.381720e-03\n",
      "V332                   1.20798  3.973826e-40\n",
      "C4                     1.75407  7.767093e-07\n",
      "C19                   -2.59290  2.439170e-02\n",
      "V2_4                  -1.23819  2.608198e-16\n"
     ]
    }
   ],
   "source": [
    "print (logit_results)"
   ]
  },
  {
   "cell_type": "markdown",
   "metadata": {},
   "source": [
    "<div class=\"span5 alert alert-info\">\n",
    "<font color=green> The table above provides interesting results. Factors that raise the chance of completing college are if your friend's parents are from China/Taiwan, GPA, and english knowledge (measured in middle school). Factors that have a negative correlation are ordinal measure indicating attitude towards helping relative over friend (higher points for disagreement), ordinal measure indicating whether it is preferable to find a job near your parents(higher points for disagreement), serious illness/diability and growing up in San Diego.  </font>"
   ]
  },
  {
   "cell_type": "markdown",
   "metadata": {},
   "source": [
    "#### Evaluating model performance"
   ]
  },
  {
   "cell_type": "code",
   "execution_count": 267,
   "metadata": {},
   "outputs": [],
   "source": [
    "y_pred = logreg.predict(X_test_reduced)"
   ]
  },
  {
   "cell_type": "code",
   "execution_count": null,
   "metadata": {},
   "outputs": [],
   "source": [
    "score = accuracy_score(y_test, y_pred)"
   ]
  },
  {
   "cell_type": "code",
   "execution_count": 268,
   "metadata": {},
   "outputs": [
    {
     "data": {
      "image/png": "[encoded data removed]",
      "text/plain": [
       "<Figure size 504x504 with 2 Axes>"
      ]
     },
     "metadata": {},
     "output_type": "display_data"
    }
   ],
   "source": [
    "# Compute and visualize confusion matrix \n",
    "cm = confusion_matrix(y_test, y_pred)\n",
    "\n",
    "plt.figure(figsize=(7,7))\n",
    "sns.heatmap(cm, annot=True,  annot_kws={\"size\": 20}, fmt=\".3f\", linewidths=.5, square = True, cmap = 'Blues_r');\n",
    "plt.ylabel('Actual label');\n",
    "plt.xlabel('Predicted label');\n",
    "all_sample_title = 'Logistic Model Accuracy Score: {:.2f}'.format(score)\n",
    "\n",
    "plt.title(all_sample_title, size = 15)\n",
    "plt.show()"
   ]
  },
  {
   "cell_type": "code",
   "execution_count": 154,
   "metadata": {},
   "outputs": [
    {
     "data": {
      "image/png": "[encoded data removed]",
      "text/plain": [
       "<Figure size 432x288 with 1 Axes>"
      ]
     },
     "metadata": {},
     "output_type": "display_data"
    }
   ],
   "source": [
    "# Compute predicted probabilities: y_pred_prob\n",
    "y_pred_prob = logreg.predict_proba(X_test_reduced)[:,1]\n",
    "\n",
    "# Generate ROC curve values: fpr, tpr, thresholds\n",
    "fpr, tpr, thresholds = roc_curve(y_test, y_pred_prob)\n",
    "\n",
    "auc = roc_auc_score(y_test, y_pred_prob)\n",
    "\n",
    "# Plot ROC curve\n",
    "plt.plot([0, 1], [0, 1], 'r--')\n",
    "plt.plot(fpr, tpr, label='ROC curve (AUC = %0.2f)' % auc)\n",
    "plt.xlabel('False Positive Rate')\n",
    "plt.ylabel('True Positive Rate')\n",
    "plt.title('ROC Curve Logistic Regression')\n",
    "plt.legend(loc='lower right')\n",
    "plt.show()"
   ]
  },
  {
   "cell_type": "markdown",
   "metadata": {},
   "source": [
    "# Random Forest Model"
   ]
  },
  {
   "cell_type": "code",
   "execution_count": 157,
   "metadata": {},
   "outputs": [],
   "source": [
    "# Instantiate\n",
    "rf = RandomForestClassifier(n_estimators=10000)  \n",
    "\n",
    "# Fit using scaled features\n",
    "rf_model = rf.fit(X_train_std, y_train) \n"
   ]
  },
  {
   "cell_type": "code",
   "execution_count": 123,
   "metadata": {},
   "outputs": [],
   "source": [
    "# Predict the labels of the test set: y_pred\n",
    "y_pred_rf = rf_model.predict(X_test_std)"
   ]
  },
  {
   "cell_type": "code",
   "execution_count": 158,
   "metadata": {},
   "outputs": [],
   "source": [
    "# Use score method to get accuracy of model\n",
    "score_rf = rf_model.score(X_test_std, y_test)\n"
   ]
  },
  {
   "cell_type": "code",
   "execution_count": 149,
   "metadata": {},
   "outputs": [
    {
     "data": {
      "image/png": "[encoded data removed]",
      "text/plain": [
       "<Figure size 504x504 with 2 Axes>"
      ]
     },
     "metadata": {},
     "output_type": "display_data"
    }
   ],
   "source": [
    "# Compute and visualize confusion matrix \n",
    "cm_rf = confusion_matrix(y_test, y_pred_rf)\n",
    "\n",
    "plt.figure(figsize=(7,7))\n",
    "sns.heatmap(cm_rf, annot=True,  annot_kws={\"size\": 20}, fmt=\".3f\", linewidths=.5, square = True, cmap = 'Blues_r');\n",
    "plt.ylabel('Actual label');\n",
    "plt.xlabel('Predicted label');\n",
    "all_sample_title = 'Random Forest - Accuracy Score: {:.2f}'.format(score_rf)\n",
    "\n",
    "plt.title(all_sample_title, size = 25)\n",
    "plt.show()\n"
   ]
  },
  {
   "cell_type": "code",
   "execution_count": 159,
   "metadata": {},
   "outputs": [
    {
     "data": {
      "image/png": "[encoded data removed]",
      "text/plain": [
       "<Figure size 432x288 with 1 Axes>"
      ]
     },
     "metadata": {},
     "output_type": "display_data"
    }
   ],
   "source": [
    "# Compute predicted probabilities: y_pred_prob\n",
    "y_pred_prob_rf = rf_model.predict_proba(X_test_std)[:,1]\n",
    "\n",
    "# Generate ROC curve values: fpr, tpr, thresholds\n",
    "fpr_rf, tpr_rf, thresholds_rf = roc_curve(y_test, y_pred_prob_rf)\n",
    "\n",
    "auc_rf = roc_auc_score(y_test, y_pred_prob_rf)\n",
    "\n",
    "# Plot ROC curve\n",
    "plt.plot([0, 1], [0, 1], 'r--')\n",
    "\n",
    "plt.plot(fpr_rf, tpr_rf, label = 'ROC curve (AUC = %0.2f)' % auc_rf)\n",
    "plt.xlabel('False Positive Rate')\n",
    "plt.ylabel('True Positive Rate')\n",
    "plt.title('ROC Curve Random Forest')\n",
    "plt.legend(loc='lower right')\n",
    "plt.show()"
   ]
  },
  {
   "cell_type": "markdown",
   "metadata": {},
   "source": [
    "<div class=\"span5 alert alert-info\">\n",
    "<font color=green> Selecting 20 variables that appear most frequently in random forests. </font>"
   ]
  },
  {
   "cell_type": "code",
   "execution_count": 168,
   "metadata": {},
   "outputs": [],
   "source": [
    "importances = rf_model.feature_importances_\n",
    "\n",
    "# get column names of top 20 features in ascending order\n",
    "indices = importances.argsort()[-20:][::-1].tolist()\n",
    "top20 = X_train.columns[indices][::-1].tolist()"
   ]
  },
  {
   "cell_type": "code",
   "execution_count": 185,
   "metadata": {},
   "outputs": [],
   "source": [
    "column_names = ['Total Family Income', 'White Student Percentage', 'Relatives In County', 'Parent Education Level',\n",
    "                'Self Esteem Scale', 'Desired Job Prestige score', 'Parent Arrival Year', 'Desired Job SEI score',\n",
    "                'Friends Full-time Job Post-HS',\"Parent's Education Expectation\", 'Parent Monthly Earnings', \n",
    "                'Subsidized School Lunch Eligibility %', 'Respondent Educational Expectation', \"Father Occupational Prestige\",\n",
    "                \"Father's SEI score\", 'Parent SES Index', 'Stanford Reading score', 'Stanford math score', \n",
    "                'Middle School GPA', 'High School GPA']\n",
    "\n",
    "column_names = column_names[::-1]"
   ]
  },
  {
   "cell_type": "code",
   "execution_count": 186,
   "metadata": {},
   "outputs": [
    {
     "data": {
      "text/plain": [
       "<matplotlib.axes._subplots.AxesSubplot at 0x202083267b8>"
      ]
     },
     "execution_count": 186,
     "metadata": {},
     "output_type": "execute_result"
    },
    {
     "data": {
      "image/png": "[encoded data removed]",
      "text/plain": [
       "<Figure size 648x648 with 1 Axes>"
      ]
     },
     "metadata": {},
     "output_type": "display_data"
    }
   ],
   "source": [
    "feat_importances = pd.Series(importances[indices], index= column_names)\n",
    "feat_importances.plot(kind='barh', figsize = (9,9))"
   ]
  }
 ],
 "metadata": {
  "kernelspec": {
   "display_name": "Python 3",
   "language": "python",
   "name": "python3"
  },
  "language_info": {
   "codemirror_mode": {
    "name": "ipython",
    "version": 3
   },
   "file_extension": ".py",
   "mimetype": "text/x-python",
   "name": "python",
   "nbconvert_exporter": "python",
   "pygments_lexer": "ipython3",
   "version": "3.6.8"
  }
 },
 "nbformat": 4,
 "nbformat_minor": 2
}
