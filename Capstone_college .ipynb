{
 "cells": [
  {
   "cell_type": "code",
   "execution_count": 1,
   "metadata": {},
   "outputs": [],
   "source": [
    "#Import Statements\n",
    "\n",
    "import pandas as pd\n",
    "import numpy as np\n",
    "import matplotlib.pyplot as plt\n",
    "import seaborn as sns\n",
    "import statsmodels.api as sm"
   ]
  },
  {
   "cell_type": "code",
   "execution_count": 2,
   "metadata": {},
   "outputs": [],
   "source": [
    "from sklearn.ensemble import RandomForestClassifier\n",
    "from sklearn.linear_model import LogisticRegression\n",
    "from sklearn.preprocessing import StandardScaler\n",
    "from sklearn.feature_selection import RFE\n",
    "from sklearn.model_selection import train_test_split"
   ]
  },
  {
   "cell_type": "code",
   "execution_count": 3,
   "metadata": {},
   "outputs": [],
   "source": [
    "from sklearn.metrics import accuracy_score, roc_curve, roc_auc_score, confusion_matrix \n",
    "from sklearn.metrics import classification_report, precision_recall_curve, auc"
   ]
  },
  {
   "cell_type": "code",
   "execution_count": 73,
   "metadata": {},
   "outputs": [],
   "source": [
    "from IPython.display import display"
   ]
  },
  {
   "cell_type": "code",
   "execution_count": 4,
   "metadata": {},
   "outputs": [
    {
     "name": "stderr",
     "output_type": "stream",
     "text": [
      "C:\\Users\\airshu23\\Anaconda3\\lib\\site-packages\\IPython\\core\\interactiveshell.py:3049: DtypeWarning: Columns (5,16,17,19,20,22,23,24,25,26,52,68,102,108,116,118,120,122,124,130,136,137,138,523,525,543,546,612,664) have mixed types. Specify dtype option on import or set low_memory=False.\n",
      "  interactivity=interactivity, compiler=compiler, result=result)\n"
     ]
    }
   ],
   "source": [
    "# read datafile\n",
    "raw_df = pd.read_csv('C:/Users/airshu23/Desktop/Capstone2/ICPSR_20520/DS0001/Data.tsv', sep='\\t')"
   ]
  },
  {
   "cell_type": "code",
   "execution_count": 5,
   "metadata": {},
   "outputs": [],
   "source": [
    "# Establish index to CASEID\n",
    "raw_df.set_index('CASEID', inplace = True)"
   ]
  },
  {
   "cell_type": "markdown",
   "metadata": {},
   "source": [
    "## Data Wrangling"
   ]
  },
  {
   "cell_type": "code",
   "execution_count": 6,
   "metadata": {},
   "outputs": [],
   "source": [
    "# copy into new dataframe for modification\n",
    "df = raw_df.copy()"
   ]
  },
  {
   "cell_type": "code",
   "execution_count": 7,
   "metadata": {},
   "outputs": [],
   "source": [
    "# get columns for entire dataset\n",
    "variables = list(df.columns)"
   ]
  },
  {
   "cell_type": "code",
   "execution_count": 8,
   "metadata": {},
   "outputs": [],
   "source": [
    "# convert all entries to string so that the function in the next cell runs properly\n",
    "df[variables] = df[variables].astype(str)"
   ]
  },
  {
   "cell_type": "code",
   "execution_count": 9,
   "metadata": {},
   "outputs": [],
   "source": [
    "#check for alphabet in column values\n",
    "def check(series):\n",
    "    \n",
    "    if series.str.contains('[a-z]', regex = True).sum() > 0:\n",
    "        return True\n",
    "    return False\n"
   ]
  },
  {
   "cell_type": "code",
   "execution_count": 10,
   "metadata": {},
   "outputs": [
    {
     "name": "stdout",
     "output_type": "stream",
     "text": [
      "['V401A', 'V401B', 'V402B', 'V404A', 'V407B', 'V408F', 'V408I', 'V408L', 'V408O', 'V409B', 'V409C', 'V410', 'V410B', 'V414A1', 'V415A1', 'V416A', 'V417A', 'V418A', 'V425A', 'V427A', 'V436A', 'V438A', 'V439A', 'V439B', 'V443A']\n"
     ]
    }
   ],
   "source": [
    "# list of columns to drop from df\n",
    "dropped = []\n",
    "\n",
    "# gather all columns with non-digit strings (a-z)\n",
    "for var in variables:\n",
    "    if check(df[var]) == True:\n",
    "        dropped.append(var)\n",
    "        \n",
    "print(dropped)"
   ]
  },
  {
   "cell_type": "code",
   "execution_count": 11,
   "metadata": {},
   "outputs": [],
   "source": [
    "# remove variables with alphabet characters\n",
    "df.drop(dropped, inplace = True, axis=1)"
   ]
  },
  {
   "cell_type": "code",
   "execution_count": 12,
   "metadata": {},
   "outputs": [],
   "source": [
    "#get columns from df\n",
    "cols = list(df.columns)\n",
    "\n",
    "# convert entries to numeric\n",
    "df[cols] = df[cols].apply(pd.to_numeric, errors='coerce')"
   ]
  },
  {
   "cell_type": "code",
   "execution_count": 13,
   "metadata": {},
   "outputs": [
    {
     "data": {
      "text/html": [
       "<div>\n",
       "<style scoped>\n",
       "    .dataframe tbody tr th:only-of-type {\n",
       "        vertical-align: middle;\n",
       "    }\n",
       "\n",
       "    .dataframe tbody tr th {\n",
       "        vertical-align: top;\n",
       "    }\n",
       "\n",
       "    .dataframe thead th {\n",
       "        text-align: right;\n",
       "    }\n",
       "</style>\n",
       "<table border=\"1\" class=\"dataframe\">\n",
       "  <thead>\n",
       "    <tr style=\"text-align: right;\">\n",
       "      <th></th>\n",
       "      <th>V1</th>\n",
       "      <th>V2</th>\n",
       "      <th>V4</th>\n",
       "      <th>V5</th>\n",
       "      <th>V7</th>\n",
       "      <th>V8</th>\n",
       "      <th>V9</th>\n",
       "      <th>V10</th>\n",
       "      <th>V11</th>\n",
       "      <th>V13</th>\n",
       "      <th>...</th>\n",
       "      <th>V448G</th>\n",
       "      <th>V448H</th>\n",
       "      <th>V448I</th>\n",
       "      <th>V448J</th>\n",
       "      <th>V448K</th>\n",
       "      <th>V448L</th>\n",
       "      <th>V448M</th>\n",
       "      <th>V448N</th>\n",
       "      <th>V449</th>\n",
       "      <th>V450</th>\n",
       "    </tr>\n",
       "    <tr>\n",
       "      <th>CASEID</th>\n",
       "      <th></th>\n",
       "      <th></th>\n",
       "      <th></th>\n",
       "      <th></th>\n",
       "      <th></th>\n",
       "      <th></th>\n",
       "      <th></th>\n",
       "      <th></th>\n",
       "      <th></th>\n",
       "      <th></th>\n",
       "      <th></th>\n",
       "      <th></th>\n",
       "      <th></th>\n",
       "      <th></th>\n",
       "      <th></th>\n",
       "      <th></th>\n",
       "      <th></th>\n",
       "      <th></th>\n",
       "      <th></th>\n",
       "      <th></th>\n",
       "      <th></th>\n",
       "    </tr>\n",
       "  </thead>\n",
       "  <tbody>\n",
       "    <tr>\n",
       "      <th>1</th>\n",
       "      <td>257</td>\n",
       "      <td>1</td>\n",
       "      <td>7</td>\n",
       "      <td>8</td>\n",
       "      <td>1.0</td>\n",
       "      <td>NaN</td>\n",
       "      <td>44.0</td>\n",
       "      <td>85.0</td>\n",
       "      <td>NaN</td>\n",
       "      <td>1.0</td>\n",
       "      <td>...</td>\n",
       "      <td>0.0</td>\n",
       "      <td>0.0</td>\n",
       "      <td>0.0</td>\n",
       "      <td>0.0</td>\n",
       "      <td>0.0</td>\n",
       "      <td>0.0</td>\n",
       "      <td>0.0</td>\n",
       "      <td>0.0</td>\n",
       "      <td>2.0</td>\n",
       "      <td>13.0</td>\n",
       "    </tr>\n",
       "    <tr>\n",
       "      <th>2</th>\n",
       "      <td>2347</td>\n",
       "      <td>1</td>\n",
       "      <td>13</td>\n",
       "      <td>9</td>\n",
       "      <td>1.0</td>\n",
       "      <td>NaN</td>\n",
       "      <td>102.0</td>\n",
       "      <td>NaN</td>\n",
       "      <td>NaN</td>\n",
       "      <td>1.0</td>\n",
       "      <td>...</td>\n",
       "      <td>0.0</td>\n",
       "      <td>0.0</td>\n",
       "      <td>0.0</td>\n",
       "      <td>0.0</td>\n",
       "      <td>0.0</td>\n",
       "      <td>0.0</td>\n",
       "      <td>0.0</td>\n",
       "      <td>0.0</td>\n",
       "      <td>3.0</td>\n",
       "      <td>12.0</td>\n",
       "    </tr>\n",
       "    <tr>\n",
       "      <th>3</th>\n",
       "      <td>860</td>\n",
       "      <td>1</td>\n",
       "      <td>12</td>\n",
       "      <td>9</td>\n",
       "      <td>2.0</td>\n",
       "      <td>1.0</td>\n",
       "      <td>78.0</td>\n",
       "      <td>69.0</td>\n",
       "      <td>1.0</td>\n",
       "      <td>1.0</td>\n",
       "      <td>...</td>\n",
       "      <td>1.0</td>\n",
       "      <td>1.0</td>\n",
       "      <td>1.0</td>\n",
       "      <td>0.0</td>\n",
       "      <td>0.0</td>\n",
       "      <td>0.0</td>\n",
       "      <td>0.0</td>\n",
       "      <td>0.0</td>\n",
       "      <td>2.0</td>\n",
       "      <td>2.0</td>\n",
       "    </tr>\n",
       "    <tr>\n",
       "      <th>4</th>\n",
       "      <td>5178</td>\n",
       "      <td>3</td>\n",
       "      <td>20</td>\n",
       "      <td>9</td>\n",
       "      <td>1.0</td>\n",
       "      <td>NaN</td>\n",
       "      <td>82.0</td>\n",
       "      <td>78.0</td>\n",
       "      <td>1.0</td>\n",
       "      <td>1.0</td>\n",
       "      <td>...</td>\n",
       "      <td>0.0</td>\n",
       "      <td>0.0</td>\n",
       "      <td>0.0</td>\n",
       "      <td>0.0</td>\n",
       "      <td>0.0</td>\n",
       "      <td>0.0</td>\n",
       "      <td>1.0</td>\n",
       "      <td>0.0</td>\n",
       "      <td>1.0</td>\n",
       "      <td>5.0</td>\n",
       "    </tr>\n",
       "    <tr>\n",
       "      <th>5</th>\n",
       "      <td>1984</td>\n",
       "      <td>1</td>\n",
       "      <td>12</td>\n",
       "      <td>9</td>\n",
       "      <td>1.0</td>\n",
       "      <td>NaN</td>\n",
       "      <td>101.0</td>\n",
       "      <td>78.0</td>\n",
       "      <td>2.0</td>\n",
       "      <td>1.0</td>\n",
       "      <td>...</td>\n",
       "      <td>0.0</td>\n",
       "      <td>0.0</td>\n",
       "      <td>1.0</td>\n",
       "      <td>1.0</td>\n",
       "      <td>0.0</td>\n",
       "      <td>0.0</td>\n",
       "      <td>1.0</td>\n",
       "      <td>0.0</td>\n",
       "      <td>1.0</td>\n",
       "      <td>4.0</td>\n",
       "    </tr>\n",
       "  </tbody>\n",
       "</table>\n",
       "<p>5 rows × 639 columns</p>\n",
       "</div>"
      ],
      "text/plain": [
       "          V1  V2  V4  V5   V7   V8     V9   V10  V11  V13  ...  V448G  V448H  \\\n",
       "CASEID                                                     ...                 \n",
       "1        257   1   7   8  1.0  NaN   44.0  85.0  NaN  1.0  ...    0.0    0.0   \n",
       "2       2347   1  13   9  1.0  NaN  102.0   NaN  NaN  1.0  ...    0.0    0.0   \n",
       "3        860   1  12   9  2.0  1.0   78.0  69.0  1.0  1.0  ...    1.0    1.0   \n",
       "4       5178   3  20   9  1.0  NaN   82.0  78.0  1.0  1.0  ...    0.0    0.0   \n",
       "5       1984   1  12   9  1.0  NaN  101.0  78.0  2.0  1.0  ...    0.0    0.0   \n",
       "\n",
       "        V448I  V448J  V448K  V448L  V448M  V448N  V449  V450  \n",
       "CASEID                                                        \n",
       "1         0.0    0.0    0.0    0.0    0.0    0.0   2.0  13.0  \n",
       "2         0.0    0.0    0.0    0.0    0.0    0.0   3.0  12.0  \n",
       "3         1.0    0.0    0.0    0.0    0.0    0.0   2.0   2.0  \n",
       "4         0.0    0.0    0.0    0.0    1.0    0.0   1.0   5.0  \n",
       "5         1.0    1.0    0.0    0.0    1.0    0.0   1.0   4.0  \n",
       "\n",
       "[5 rows x 639 columns]"
      ]
     },
     "execution_count": 13,
     "metadata": {},
     "output_type": "execute_result"
    }
   ],
   "source": [
    "df.head(5)"
   ]
  },
  {
   "cell_type": "code",
   "execution_count": 14,
   "metadata": {},
   "outputs": [],
   "source": [
    "#non-continuous, non-ordinal variables to remove\n",
    "non_numerical = ['V204', 'V278A', 'P140', 'V37', 'V263', 'V1', 'V32', 'V233', 'V62']\n",
    "\n",
    "#percentiles of Stanford Achievement test. df has scores\n",
    "redundant = ['V132', 'V134' ]\n",
    "\n",
    "# remove variables with alphabet characters\n",
    "df.drop(non_numerical + redundant, inplace = True, axis=1)"
   ]
  },
  {
   "cell_type": "markdown",
   "metadata": {},
   "source": [
    "### Exploratory Data Analysis"
   ]
  },
  {
   "cell_type": "code",
   "execution_count": 15,
   "metadata": {},
   "outputs": [
    {
     "data": {
      "image/png": "[encoded data removed]",
      "text/plain": [
       "<Figure size 288x360 with 1 Axes>"
      ]
     },
     "metadata": {
      "needs_background": "light"
     },
     "output_type": "display_data"
    }
   ],
   "source": [
    "#College Completion\n",
    "\n",
    "college_count  = df['V448M'].value_counts()\n",
    "college_count.index = ['No', 'Yes']\n",
    "\n",
    "plt.figure(figsize=(4,5))\n",
    "sns.barplot(college_count.index, college_count.values, alpha=0.8)\n",
    "plt.ylabel('Number of Occurrences', fontsize=12)\n",
    "plt.xlabel('College Completion', fontsize=12)\n",
    "plt.show()"
   ]
  },
  {
   "cell_type": "code",
   "execution_count": 16,
   "metadata": {},
   "outputs": [],
   "source": [
    "#helper functions to convert values\n",
    "def convert(value):\n",
    "    if value == 1:\n",
    "        return 'Yes'\n",
    "    elif value == 0:\n",
    "        return 'No'\n",
    "\n",
    "def levels(value):\n",
    "    if value == 1:\n",
    "        return \"Less than high school\"\n",
    "    elif value == 2:\n",
    "        return \"Finish high school\"\n",
    "    elif value == 3:\n",
    "        return \"Finish some college\"\n",
    "    elif value == 4:\n",
    "        return \"Finish college\"\n",
    "    elif value == 5:\n",
    "        return \"Finish a graduate degree\""
   ]
  },
  {
   "cell_type": "code",
   "execution_count": 65,
   "metadata": {},
   "outputs": [],
   "source": [
    "# plot counts of college completion grouped by student's expectation\n",
    "\n",
    "test = df.loc[: , [\"V261\",\"V448M\"]]\n",
    "\n",
    "test[\"Student's Expectation\"] = test[\"V261\"].apply(levels)\n",
    "test[\"College Completion\"] = test[\"V448M\"].apply(convert)"
   ]
  },
  {
   "cell_type": "code",
   "execution_count": 66,
   "metadata": {},
   "outputs": [
    {
     "data": {
      "image/png": "[encoded data removed]",
      "text/plain": [
       "<Figure size 720x504 with 1 Axes>"
      ]
     },
     "metadata": {
      "needs_background": "light"
     },
     "output_type": "display_data"
    }
   ],
   "source": [
    "plt.figure(figsize=(10,7))\n",
    "sns.countplot(x=\"Student's Expectation\", hue=\"College Completion\", order=[\"Less than high school\", \"Finish high school\",\n",
    "              \"Finish some college\", \"Finish college\", \"Finish a graduate degree\"], data=test)\n",
    "\n",
    "plt.show()"
   ]
  },
  {
   "cell_type": "code",
   "execution_count": 19,
   "metadata": {},
   "outputs": [
    {
     "data": {
      "text/plain": [
       "Text(0, 0.5, \"Student's Expectation\")"
      ]
     },
     "execution_count": 19,
     "metadata": {},
     "output_type": "execute_result"
    },
    {
     "data": {
      "image/png": "[encoded data removed]",
      "text/plain": [
       "<Figure size 1008x432 with 1 Axes>"
      ]
     },
     "metadata": {
      "needs_background": "light"
     },
     "output_type": "display_data"
    }
   ],
   "source": [
    "# Violon Plots\n",
    "f, (ax) = plt.subplots(1, 1, figsize=(14, 6))\n",
    "f.suptitle(\"Parent's Educational Expectation for Child vs Child's Expectation\", fontsize=14)\n",
    "\n",
    "sns.violinplot(x=\"P132\", y=\"V261\", data=df,  ax=ax)\n",
    "ax.set_xlabel(\"Parent's Expectation\",size = 12,alpha=0.8)\n",
    "ax.set_ylabel(\"Student's Expectation\",size = 12,alpha=0.8)"
   ]
  },
  {
   "cell_type": "code",
   "execution_count": 20,
   "metadata": {},
   "outputs": [
    {
     "data": {
      "text/plain": [
       "Text(0.5, 1.0, 'Average College Completion')"
      ]
     },
     "execution_count": 20,
     "metadata": {},
     "output_type": "execute_result"
    },
    {
     "data": {
      "image/png": "[encoded data removed]",
      "text/plain": [
       "<Figure size 720x432 with 1 Axes>"
      ]
     },
     "metadata": {
      "needs_background": "light"
     },
     "output_type": "display_data"
    }
   ],
   "source": [
    "# job's prestige score Grouped by race/ethnicity\n",
    "\n",
    "avg_by_ethnicity = df.groupby('V323A')[['V448M']].mean()\n",
    "s = pd.Series(['White', 'Black', 'Asian', 'Multiracial', 'Hispanic', 'Nationality', 'Other'])\n",
    "\n",
    "ax4 = avg_by_ethnicity.set_index(s).plot.bar(rot = 45, legend = False, figsize = (10,6))\n",
    "ax4.set_title('Average College Completion')"
   ]
  },
  {
   "cell_type": "markdown",
   "metadata": {},
   "source": [
    "### Pre-processing"
   ]
  },
  {
   "cell_type": "markdown",
   "metadata": {},
   "source": [
    "<div class=\"span5 alert alert-success\">\n",
    "<p>Your answers to Q1 and Q2 here</p>\n",
    "</div>"
   ]
  },
  {
   "cell_type": "markdown",
   "metadata": {},
   "source": [
    "<div class=\"span5 alert alert-info\">\n",
    "<p>First drop 'outcome' variables from last followup survey. I am removing variables such as job prestige score and income I do not want any retrospective variables.</p>\n",
    "</div>\n"
   ]
  },
  {
   "cell_type": "code",
   "execution_count": 21,
   "metadata": {},
   "outputs": [],
   "source": [
    "features = list(df.columns)\n",
    "\n",
    "# get index of first year 2005 follow-up variable\n",
    "first_2005 = features.index('V400')\n",
    "\n",
    "# get index of last year 2005 follow-up variable\n",
    "last_2005 = features.index('V450')\n",
    "\n",
    "#all variables from 2005 followup\n",
    "variables_2005 = set(features[first_2005:last_2005+1])\n",
    "\n",
    "#target variable to keep\n",
    "keep_2005 = set(['V448M'])\n",
    "\n",
    "# remove 2005 variables V448M\n",
    "drop_2005 = list(variables_2005.difference(keep_2005))\n",
    "\n",
    "#drop from column headers above\n",
    "df1 = df.drop(drop_2005, axis=1)\n"
   ]
  },
  {
   "cell_type": "code",
   "execution_count": 22,
   "metadata": {},
   "outputs": [
    {
     "name": "stdout",
     "output_type": "stream",
     "text": [
      "(5262, 529)\n"
     ]
    }
   ],
   "source": [
    "print (df1.shape)"
   ]
  },
  {
   "cell_type": "markdown",
   "metadata": {},
   "source": [
    "<div class=\"span5 alert alert-info\">\n",
    "<font color=green>Drop observations that do not have parental survey and college indicator.</font>"
   ]
  },
  {
   "cell_type": "code",
   "execution_count": 23,
   "metadata": {},
   "outputs": [
    {
     "name": "stdout",
     "output_type": "stream",
     "text": [
      "(1703, 529)\n"
     ]
    }
   ],
   "source": [
    "# remove rows that do not have target variable - college completion\n",
    "df1 = df1[pd.notnull(df1['V448M'])]\n",
    "\n",
    "# remove rows that do not have parental survey completed\n",
    "df1 = df1[pd.notnull(df1['P2A'])]\n",
    "\n",
    "print (df1.shape)"
   ]
  },
  {
   "cell_type": "markdown",
   "metadata": {},
   "source": [
    "<div class=\"span5 alert alert-info\">\n",
    "<font color=green>Drop highly correlated features. </font>"
   ]
  },
  {
   "cell_type": "code",
   "execution_count": 24,
   "metadata": {},
   "outputs": [],
   "source": [
    "# Create correlation matrix\n",
    "corr_matrix = df1.corr().abs()\n",
    "\n",
    "# Select upper triangle of correlation matrix\n",
    "upper = corr_matrix.where(np.triu(np.ones(corr_matrix.shape), k=1).astype(np.bool))\n",
    "\n",
    "# Find index of feature columns with correlation greater than 0.95\n",
    "to_drop = [column for column in upper.columns if any(upper[column] > 0.95)]\n",
    "\n",
    "# Drop features \n",
    "df1 = df1.drop(to_drop, axis=1)"
   ]
  },
  {
   "cell_type": "markdown",
   "metadata": {},
   "source": [
    "<div class=\"span5 alert alert-info\">\n",
    "<font color=green> Removing columns that have less than 25% of the column entries filled with missing values . </font>"
   ]
  },
  {
   "cell_type": "code",
   "execution_count": 25,
   "metadata": {},
   "outputs": [
    {
     "name": "stdout",
     "output_type": "stream",
     "text": [
      "(1703, 401)\n"
     ]
    }
   ],
   "source": [
    "# missing values\n",
    "test1 = df1.isnull().sum() / len(df1)\n",
    "\n",
    "#all columns where number of missing values exceed 25%\n",
    "testing = test1[test1>=0.25]\n",
    "\n",
    "#columns in original df that have below 75% of values that is n/a \n",
    "below75 = list(testing.index.values)\n",
    "\n",
    "#drop from column headers above\n",
    "df2 = df1.drop(below75, axis=1)\n",
    "\n",
    "print (df2.shape)\n"
   ]
  },
  {
   "cell_type": "code",
   "execution_count": 26,
   "metadata": {},
   "outputs": [],
   "source": [
    "# imputing values for missing entries\n",
    "df3 = df2.fillna(df2.median())"
   ]
  },
  {
   "cell_type": "code",
   "execution_count": 27,
   "metadata": {},
   "outputs": [],
   "source": [
    "# Create a set of dummy variables from categorical variables\n",
    "df3 = pd.get_dummies(df3, columns=['V2', 'V90','P14', 'P142'], drop_first = True)"
   ]
  },
  {
   "cell_type": "code",
   "execution_count": 28,
   "metadata": {},
   "outputs": [],
   "source": [
    "#Convert original values\n",
    "df3['V324E'] = np.where(df3['V324E']== 1.0, 1.0, 0.0)\n",
    "\n",
    "#Stuff for P62D\n",
    "df3['P62D'] = np.where(df3['P62D']== 1.0, 1.0, 0.0)"
   ]
  },
  {
   "cell_type": "code",
   "execution_count": 29,
   "metadata": {},
   "outputs": [
    {
     "data": {
      "text/plain": [
       "False"
      ]
     },
     "execution_count": 29,
     "metadata": {},
     "output_type": "execute_result"
    }
   ],
   "source": [
    "df3.isnull().values.any()"
   ]
  },
  {
   "cell_type": "markdown",
   "metadata": {},
   "source": [
    "# Implementing Models"
   ]
  },
  {
   "cell_type": "code",
   "execution_count": 30,
   "metadata": {},
   "outputs": [],
   "source": [
    "# split into feature and target variable\n",
    "\n",
    "X = df3.drop('V448M', axis = 1)\n",
    "y = df3['V448M']\n",
    "\n",
    "#split into train and test sets\n",
    "X_train, X_test, y_train, y_test = train_test_split(X, y, test_size=0.20, random_state=77)"
   ]
  },
  {
   "cell_type": "code",
   "execution_count": 31,
   "metadata": {},
   "outputs": [
    {
     "name": "stderr",
     "output_type": "stream",
     "text": [
      "C:\\Users\\airshu23\\Anaconda3\\lib\\site-packages\\sklearn\\preprocessing\\data.py:645: DataConversionWarning: Data with input dtype uint8, int64, float64 were all converted to float64 by StandardScaler.\n",
      "  return self.partial_fit(X, y)\n",
      "C:\\Users\\airshu23\\Anaconda3\\lib\\site-packages\\ipykernel_launcher.py:8: DataConversionWarning: Data with input dtype uint8, int64, float64 were all converted to float64 by StandardScaler.\n",
      "  \n",
      "C:\\Users\\airshu23\\Anaconda3\\lib\\site-packages\\ipykernel_launcher.py:9: DataConversionWarning: Data with input dtype uint8, int64, float64 were all converted to float64 by StandardScaler.\n",
      "  if __name__ == '__main__':\n"
     ]
    }
   ],
   "source": [
    "# Create standardizer\n",
    "standardizer = StandardScaler()\n",
    "\n",
    "# Fit standardizer to training set \n",
    "standardizer.fit(X_train)\n",
    "\n",
    "# Apply to both training and test sets to be used in Random Forest Model\n",
    "X_train_std = standardizer.transform(X_train)\n",
    "X_test_std = standardizer.transform(X_test)"
   ]
  },
  {
   "cell_type": "markdown",
   "metadata": {},
   "source": [
    "## Dimensionality Reduction using Recursive Feature Elimination"
   ]
  },
  {
   "cell_type": "markdown",
   "metadata": {},
   "source": [
    "<div class=\"span5 alert alert-info\">\n",
    "<font color=green> Choosing 20 variables that produce the best results. Logistic regression is as used as input inside recursive feature elimination function. </font>"
   ]
  },
  {
   "cell_type": "code",
   "execution_count": 58,
   "metadata": {},
   "outputs": [],
   "source": [
    "logit = LogisticRegression(solver='liblinear') ## chose high c-value to match results from statsmodels logistic regression\n",
    "rfe = RFE(logit, 20)\n",
    "rfe = rfe.fit(X_train, y_train)"
   ]
  },
  {
   "cell_type": "code",
   "execution_count": 59,
   "metadata": {},
   "outputs": [],
   "source": [
    "# get indices of columns chosen in step above\n",
    "col_indices = rfe.get_support(indices=True).tolist()\n",
    "\n",
    "#Select only the top 20 variables from orignial dataframe\n",
    "X_train_reduced = X_train.iloc[:, col_indices]\n",
    "X_test_reduced = X_test.iloc[:, col_indices]"
   ]
  },
  {
   "cell_type": "markdown",
   "metadata": {},
   "source": [
    "## Logistic Model "
   ]
  },
  {
   "cell_type": "code",
   "execution_count": 60,
   "metadata": {},
   "outputs": [
    {
     "name": "stdout",
     "output_type": "stream",
     "text": [
      "Optimization terminated successfully.\n",
      "         Current function value: 0.507659\n",
      "         Iterations 6\n"
     ]
    },
    {
     "name": "stderr",
     "output_type": "stream",
     "text": [
      "C:\\Users\\airshu23\\Anaconda3\\lib\\site-packages\\numpy\\core\\fromnumeric.py:2389: FutureWarning: Method .ptp is deprecated and will be removed in a future version. Use numpy.ptp instead.\n",
      "  return ptp(axis=axis, out=out, **kwargs)\n"
     ]
    }
   ],
   "source": [
    "# logistic model with constant term\n",
    "\n",
    "X_const = sm.add_constant(X_train_reduced)\n",
    "logit_model= sm.Logit(y_train, X_const)\n",
    "result=logit_model.fit()"
   ]
  },
  {
   "cell_type": "code",
   "execution_count": 61,
   "metadata": {},
   "outputs": [
    {
     "data": {
      "text/html": [
       "<table class=\"simpletable\">\n",
       "<caption>Logit Regression Results</caption>\n",
       "<tr>\n",
       "  <th>Dep. Variable:</th>       <td>V448M</td>      <th>  No. Observations:  </th>  <td>  1362</td>  \n",
       "</tr>\n",
       "<tr>\n",
       "  <th>Model:</th>               <td>Logit</td>      <th>  Df Residuals:      </th>  <td>  1341</td>  \n",
       "</tr>\n",
       "<tr>\n",
       "  <th>Method:</th>               <td>MLE</td>       <th>  Df Model:          </th>  <td>    20</td>  \n",
       "</tr>\n",
       "<tr>\n",
       "  <th>Date:</th>          <td>Sat, 06 Apr 2019</td> <th>  Pseudo R-squ.:     </th>  <td>0.2349</td>  \n",
       "</tr>\n",
       "<tr>\n",
       "  <th>Time:</th>              <td>00:25:29</td>     <th>  Log-Likelihood:    </th> <td> -691.43</td> \n",
       "</tr>\n",
       "<tr>\n",
       "  <th>converged:</th>           <td>True</td>       <th>  LL-Null:           </th> <td> -903.69</td> \n",
       "</tr>\n",
       "<tr>\n",
       "  <th> </th>                      <td> </td>        <th>  LLR p-value:       </th> <td>1.655e-77</td>\n",
       "</tr>\n",
       "</table>\n",
       "<table class=\"simpletable\">\n",
       "<tr>\n",
       "      <td></td>        <th>coef</th>     <th>std err</th>      <th>z</th>      <th>P>|z|</th>  <th>[0.025</th>    <th>0.975]</th>  \n",
       "</tr>\n",
       "<tr>\n",
       "  <th>const</th>    <td>   -1.8534</td> <td>    1.168</td> <td>   -1.587</td> <td> 0.113</td> <td>   -4.142</td> <td>    0.436</td>\n",
       "</tr>\n",
       "<tr>\n",
       "  <th>V25</th>      <td>   -1.0846</td> <td>    0.337</td> <td>   -3.215</td> <td> 0.001</td> <td>   -1.746</td> <td>   -0.423</td>\n",
       "</tr>\n",
       "<tr>\n",
       "  <th>V70</th>      <td>    0.0842</td> <td>    0.183</td> <td>    0.460</td> <td> 0.645</td> <td>   -0.274</td> <td>    0.442</td>\n",
       "</tr>\n",
       "<tr>\n",
       "  <th>V74F</th>     <td>    0.5062</td> <td>    0.248</td> <td>    2.039</td> <td> 0.041</td> <td>    0.020</td> <td>    0.993</td>\n",
       "</tr>\n",
       "<tr>\n",
       "  <th>V148</th>     <td>    0.5239</td> <td>    0.095</td> <td>    5.506</td> <td> 0.000</td> <td>    0.337</td> <td>    0.710</td>\n",
       "</tr>\n",
       "<tr>\n",
       "  <th>V274C</th>    <td>   -0.4061</td> <td>    0.100</td> <td>   -4.043</td> <td> 0.000</td> <td>   -0.603</td> <td>   -0.209</td>\n",
       "</tr>\n",
       "<tr>\n",
       "  <th>V324E</th>    <td>   -0.6802</td> <td>    0.272</td> <td>   -2.497</td> <td> 0.013</td> <td>   -1.214</td> <td>   -0.146</td>\n",
       "</tr>\n",
       "<tr>\n",
       "  <th>V324F</th>    <td>   -0.2434</td> <td>    0.399</td> <td>   -0.609</td> <td> 0.542</td> <td>   -1.026</td> <td>    0.540</td>\n",
       "</tr>\n",
       "<tr>\n",
       "  <th>V332</th>     <td>    1.0375</td> <td>    0.094</td> <td>   11.016</td> <td> 0.000</td> <td>    0.853</td> <td>    1.222</td>\n",
       "</tr>\n",
       "<tr>\n",
       "  <th>V337</th>     <td>   -0.8667</td> <td>    0.409</td> <td>   -2.118</td> <td> 0.034</td> <td>   -1.669</td> <td>   -0.065</td>\n",
       "</tr>\n",
       "<tr>\n",
       "  <th>P62D</th>     <td>    0.4153</td> <td>    0.317</td> <td>    1.310</td> <td> 0.190</td> <td>   -0.206</td> <td>    1.037</td>\n",
       "</tr>\n",
       "<tr>\n",
       "  <th>P92D</th>     <td>   -0.6326</td> <td>    0.373</td> <td>   -1.695</td> <td> 0.090</td> <td>   -1.364</td> <td>    0.099</td>\n",
       "</tr>\n",
       "<tr>\n",
       "  <th>P131</th>     <td>   -0.3431</td> <td>    0.113</td> <td>   -3.028</td> <td> 0.002</td> <td>   -0.565</td> <td>   -0.121</td>\n",
       "</tr>\n",
       "<tr>\n",
       "  <th>C4</th>       <td>    1.4307</td> <td>    0.350</td> <td>    4.088</td> <td> 0.000</td> <td>    0.745</td> <td>    2.117</td>\n",
       "</tr>\n",
       "<tr>\n",
       "  <th>V2_4</th>     <td>   -0.9937</td> <td>    0.156</td> <td>   -6.376</td> <td> 0.000</td> <td>   -1.299</td> <td>   -0.688</td>\n",
       "</tr>\n",
       "<tr>\n",
       "  <th>V90_2.0</th>  <td>   -0.5612</td> <td>    0.394</td> <td>   -1.424</td> <td> 0.154</td> <td>   -1.333</td> <td>    0.211</td>\n",
       "</tr>\n",
       "<tr>\n",
       "  <th>V90_3.0</th>  <td>   -0.6588</td> <td>    0.526</td> <td>   -1.251</td> <td> 0.211</td> <td>   -1.691</td> <td>    0.373</td>\n",
       "</tr>\n",
       "<tr>\n",
       "  <th>P14_2.0</th>  <td>   -0.5701</td> <td>    0.259</td> <td>   -2.201</td> <td> 0.028</td> <td>   -1.078</td> <td>   -0.063</td>\n",
       "</tr>\n",
       "<tr>\n",
       "  <th>P14_3.0</th>  <td>   -1.8734</td> <td>    0.925</td> <td>   -2.024</td> <td> 0.043</td> <td>   -3.687</td> <td>   -0.060</td>\n",
       "</tr>\n",
       "<tr>\n",
       "  <th>P142_2.0</th> <td>   -0.4634</td> <td>    0.208</td> <td>   -2.226</td> <td> 0.026</td> <td>   -0.871</td> <td>   -0.055</td>\n",
       "</tr>\n",
       "<tr>\n",
       "  <th>P142_3.0</th> <td>   -0.5384</td> <td>    0.312</td> <td>   -1.725</td> <td> 0.085</td> <td>   -1.150</td> <td>    0.073</td>\n",
       "</tr>\n",
       "</table>"
      ],
      "text/plain": [
       "<class 'statsmodels.iolib.summary.Summary'>\n",
       "\"\"\"\n",
       "                           Logit Regression Results                           \n",
       "==============================================================================\n",
       "Dep. Variable:                  V448M   No. Observations:                 1362\n",
       "Model:                          Logit   Df Residuals:                     1341\n",
       "Method:                           MLE   Df Model:                           20\n",
       "Date:                Sat, 06 Apr 2019   Pseudo R-squ.:                  0.2349\n",
       "Time:                        00:25:29   Log-Likelihood:                -691.43\n",
       "converged:                       True   LL-Null:                       -903.69\n",
       "                                        LLR p-value:                 1.655e-77\n",
       "==============================================================================\n",
       "                 coef    std err          z      P>|z|      [0.025      0.975]\n",
       "------------------------------------------------------------------------------\n",
       "const         -1.8534      1.168     -1.587      0.113      -4.142       0.436\n",
       "V25           -1.0846      0.337     -3.215      0.001      -1.746      -0.423\n",
       "V70            0.0842      0.183      0.460      0.645      -0.274       0.442\n",
       "V74F           0.5062      0.248      2.039      0.041       0.020       0.993\n",
       "V148           0.5239      0.095      5.506      0.000       0.337       0.710\n",
       "V274C         -0.4061      0.100     -4.043      0.000      -0.603      -0.209\n",
       "V324E         -0.6802      0.272     -2.497      0.013      -1.214      -0.146\n",
       "V324F         -0.2434      0.399     -0.609      0.542      -1.026       0.540\n",
       "V332           1.0375      0.094     11.016      0.000       0.853       1.222\n",
       "V337          -0.8667      0.409     -2.118      0.034      -1.669      -0.065\n",
       "P62D           0.4153      0.317      1.310      0.190      -0.206       1.037\n",
       "P92D          -0.6326      0.373     -1.695      0.090      -1.364       0.099\n",
       "P131          -0.3431      0.113     -3.028      0.002      -0.565      -0.121\n",
       "C4             1.4307      0.350      4.088      0.000       0.745       2.117\n",
       "V2_4          -0.9937      0.156     -6.376      0.000      -1.299      -0.688\n",
       "V90_2.0       -0.5612      0.394     -1.424      0.154      -1.333       0.211\n",
       "V90_3.0       -0.6588      0.526     -1.251      0.211      -1.691       0.373\n",
       "P14_2.0       -0.5701      0.259     -2.201      0.028      -1.078      -0.063\n",
       "P14_3.0       -1.8734      0.925     -2.024      0.043      -3.687      -0.060\n",
       "P142_2.0      -0.4634      0.208     -2.226      0.026      -0.871      -0.055\n",
       "P142_3.0      -0.5384      0.312     -1.725      0.085      -1.150       0.073\n",
       "==============================================================================\n",
       "\"\"\""
      ]
     },
     "execution_count": 61,
     "metadata": {},
     "output_type": "execute_result"
    }
   ],
   "source": [
    "result.summary()"
   ]
  },
  {
   "cell_type": "code",
   "execution_count": 62,
   "metadata": {},
   "outputs": [],
   "source": [
    "# the variables used in logistic model\n",
    "used_columns = X_train_reduced.columns.values.tolist()\n",
    "\n",
    "# only p-values significant at 5% (indexed by column name)\n",
    "p_val = result.pvalues.loc[result.pvalues <= 0.05]\n",
    "\n",
    "# list of column names which are statistically significant\n",
    "stat_sig = p_val.index.tolist()\n",
    "\n",
    "#index of statistically significant terms\n",
    "stat_sig_idx = [i for i in range(len(used_columns)) if used_columns[i] in stat_sig]"
   ]
  },
  {
   "cell_type": "code",
   "execution_count": 67,
   "metadata": {},
   "outputs": [
    {
     "name": "stdout",
     "output_type": "stream",
     "text": [
      "['V25', 'V74F', 'V148', 'V274C', 'V324E', 'V332', 'V337', 'P131', 'C4', 'V2_4', 'P14_2.0', 'P14_3.0', 'P142_2.0']\n"
     ]
    }
   ],
   "source": [
    "print(stat_sig)"
   ]
  },
  {
   "cell_type": "code",
   "execution_count": 63,
   "metadata": {},
   "outputs": [],
   "source": [
    "coeff = result.params.values.tolist()"
   ]
  },
  {
   "cell_type": "code",
   "execution_count": 74,
   "metadata": {},
   "outputs": [
    {
     "data": {
      "text/html": [
       "<div>\n",
       "<style scoped>\n",
       "    .dataframe tbody tr th:only-of-type {\n",
       "        vertical-align: middle;\n",
       "    }\n",
       "\n",
       "    .dataframe tbody tr th {\n",
       "        vertical-align: top;\n",
       "    }\n",
       "\n",
       "    .dataframe thead th {\n",
       "        text-align: right;\n",
       "    }\n",
       "</style>\n",
       "<table border=\"1\" class=\"dataframe\">\n",
       "  <thead>\n",
       "    <tr style=\"text-align: right;\">\n",
       "      <th></th>\n",
       "      <th>Feature</th>\n",
       "      <th>Feature Description</th>\n",
       "      <th>Statsmodel Coefficients</th>\n",
       "    </tr>\n",
       "  </thead>\n",
       "  <tbody>\n",
       "    <tr>\n",
       "      <th>0</th>\n",
       "      <td>V25</td>\n",
       "      <td>Ability To Understand English</td>\n",
       "      <td>-1.853</td>\n",
       "    </tr>\n",
       "    <tr>\n",
       "      <th>1</th>\n",
       "      <td>V74F</td>\n",
       "      <td>Parent's Friend's from China/Taiwan</td>\n",
       "      <td>0.084</td>\n",
       "    </tr>\n",
       "    <tr>\n",
       "      <th>2</th>\n",
       "      <td>V148</td>\n",
       "      <td>Parent SES Index</td>\n",
       "      <td>0.506</td>\n",
       "    </tr>\n",
       "    <tr>\n",
       "      <th>3</th>\n",
       "      <td>V274C</td>\n",
       "      <td>Friend's Will Get Jobs Right Out High School</td>\n",
       "      <td>0.524</td>\n",
       "    </tr>\n",
       "    <tr>\n",
       "      <th>4</th>\n",
       "      <td>V324E</td>\n",
       "      <td>Disabled</td>\n",
       "      <td>-0.406</td>\n",
       "    </tr>\n",
       "    <tr>\n",
       "      <th>5</th>\n",
       "      <td>V332</td>\n",
       "      <td>Grade Point Average (HS)</td>\n",
       "      <td>-0.243</td>\n",
       "    </tr>\n",
       "    <tr>\n",
       "      <th>6</th>\n",
       "      <td>V337</td>\n",
       "      <td>HS Dropout</td>\n",
       "      <td>1.038</td>\n",
       "    </tr>\n",
       "    <tr>\n",
       "      <th>7</th>\n",
       "      <td>P131</td>\n",
       "      <td>Parent Satisfication With Child Education</td>\n",
       "      <td>-0.633</td>\n",
       "    </tr>\n",
       "    <tr>\n",
       "      <th>8</th>\n",
       "      <td>C4</td>\n",
       "      <td>English Knowledge</td>\n",
       "      <td>-0.343</td>\n",
       "    </tr>\n",
       "    <tr>\n",
       "      <th>9</th>\n",
       "      <td>V2_4</td>\n",
       "      <td>Residence in San Diego Metro Area</td>\n",
       "      <td>1.431</td>\n",
       "    </tr>\n",
       "    <tr>\n",
       "      <th>10</th>\n",
       "      <td>P14_2.0</td>\n",
       "      <td>Step Parent</td>\n",
       "      <td>-0.659</td>\n",
       "    </tr>\n",
       "    <tr>\n",
       "      <th>11</th>\n",
       "      <td>P14_3.0</td>\n",
       "      <td>Non-biological parent/ not step parent</td>\n",
       "      <td>-0.570</td>\n",
       "    </tr>\n",
       "    <tr>\n",
       "      <th>12</th>\n",
       "      <td>P142_2.0</td>\n",
       "      <td>Parent wishes to return to home country</td>\n",
       "      <td>-1.873</td>\n",
       "    </tr>\n",
       "  </tbody>\n",
       "</table>\n",
       "</div>"
      ],
      "text/plain": [
       "     Feature                           Feature Description  \\\n",
       "0        V25                 Ability To Understand English   \n",
       "1       V74F           Parent's Friend's from China/Taiwan   \n",
       "2       V148                              Parent SES Index   \n",
       "3      V274C  Friend's Will Get Jobs Right Out High School   \n",
       "4      V324E                                      Disabled   \n",
       "5       V332                      Grade Point Average (HS)   \n",
       "6       V337                                    HS Dropout   \n",
       "7       P131     Parent Satisfication With Child Education   \n",
       "8         C4                             English Knowledge   \n",
       "9       V2_4             Residence in San Diego Metro Area   \n",
       "10   P14_2.0                                   Step Parent   \n",
       "11   P14_3.0        Non-biological parent/ not step parent   \n",
       "12  P142_2.0       Parent wishes to return to home country   \n",
       "\n",
       "    Statsmodel Coefficients  \n",
       "0                    -1.853  \n",
       "1                     0.084  \n",
       "2                     0.506  \n",
       "3                     0.524  \n",
       "4                    -0.406  \n",
       "5                    -0.243  \n",
       "6                     1.038  \n",
       "7                    -0.633  \n",
       "8                    -0.343  \n",
       "9                     1.431  \n",
       "10                   -0.659  \n",
       "11                   -0.570  \n",
       "12                   -1.873  "
      ]
     },
     "metadata": {},
     "output_type": "display_data"
    }
   ],
   "source": [
    "statsmodels_results = pd.DataFrame({'Feature' : stat_sig,\n",
    "                    'Feature Description': ['Ability To Understand English', \"Parent's Friend's from China/Taiwan\",\n",
    "                                            'Parent SES Index', \"Friend's Will Get Jobs Right Out High School\" ,\n",
    "                                            'Disabled', 'Grade Point Average (HS)', 'HS Dropout',\n",
    "                                            'Parent Satisfication With Child Education', 'English Knowledge', \n",
    "                                            'Residence in San Diego Metro Area', \n",
    "                                            'Step Parent', 'Non-biological parent/ not step parent',\n",
    "                                            'Parent wishes to return to home country'] ,\n",
    "                    'Statsmodel Coefficients' : np.round(coeff, 3)[stat_sig_idx]})\n",
    "\n",
    "display(statsmodels_results)"
   ]
  },
  {
   "cell_type": "markdown",
   "metadata": {},
   "source": [
    "<div class=\"span5 alert alert-info\">\n",
    "<font color=green> The only factor that runs counter to expectations is the (ordinal) measure of respondent's ability to understand English. Parent's satisfaction with child's education has a negative coefficient due to the manner in which the measure was reported. 'Very Satisfied' was given an ordinal value of 1 and 'not satisfied' was given a value of 3. </font>"
   ]
  },
  {
   "cell_type": "markdown",
   "metadata": {},
   "source": [
    "#### Evaluating model performance"
   ]
  },
  {
   "cell_type": "code",
   "execution_count": 40,
   "metadata": {},
   "outputs": [],
   "source": [
    "y_pred_prob = result.predict(X_test_reduced)\n",
    "y_pred_binary = (y_pred_prob >= 0.5).astype(int)\n",
    "\n",
    "# percentage of test observations correctly predicted\n",
    "score = accuracy_score(y_test, y_pred_binary)"
   ]
  },
  {
   "cell_type": "code",
   "execution_count": 41,
   "metadata": {},
   "outputs": [
    {
     "data": {
      "image/png": "[encoded data removed]",
      "text/plain": [
       "<Figure size 504x504 with 2 Axes>"
      ]
     },
     "metadata": {
      "needs_background": "light"
     },
     "output_type": "display_data"
    }
   ],
   "source": [
    "# Compute and visualize confusion matrix \n",
    "cm = confusion_matrix(y_test, y_pred_binary)\n",
    "\n",
    "plt.figure(figsize=(7,7))\n",
    "sns.heatmap(cm, annot=True,  annot_kws={\"size\": 20}, fmt=\".3f\", linewidths=.5, square = True, cmap = 'Blues_r');\n",
    "plt.ylabel('Actual label');\n",
    "plt.xlabel('Predicted label');\n",
    "all_sample_title = 'Logistic Model Accuracy Score: {:.2f}'.format(score)\n",
    "\n",
    "plt.title(all_sample_title, size = 15)\n",
    "plt.show()"
   ]
  },
  {
   "cell_type": "code",
   "execution_count": 53,
   "metadata": {},
   "outputs": [
    {
     "data": {
      "image/png": "[encoded data removed]",
      "text/plain": [
       "<Figure size 432x288 with 1 Axes>"
      ]
     },
     "metadata": {
      "needs_background": "light"
     },
     "output_type": "display_data"
    }
   ],
   "source": [
    "# Generate ROC curve values: fpr, tpr, thresholds\n",
    "fpr, tpr, thresholds = roc_curve(y_test, y_pred_prob)\n",
    "\n",
    "auc = roc_auc_score(y_test, y_pred_prob)\n",
    "# Plot ROC curve\n",
    "plt.plot([0, 1], [0, 1], 'r--')\n",
    "plt.plot(fpr, tpr, label='ROC curve (AUC = %0.2f)' % auc)\n",
    "plt.xlabel('False Positive Rate')\n",
    "plt.ylabel('True Positive Rate')\n",
    "plt.title('ROC Curve Logistic Regression')\n",
    "plt.legend(loc='lower right')\n",
    "plt.show()"
   ]
  },
  {
   "cell_type": "markdown",
   "metadata": {},
   "source": [
    "# Random Forest Model"
   ]
  },
  {
   "cell_type": "code",
   "execution_count": 47,
   "metadata": {},
   "outputs": [],
   "source": [
    "# Instantiate\n",
    "rf = RandomForestClassifier(n_estimators=10000)  \n",
    "\n",
    "# Fit using scaled features\n",
    "rf_model = rf.fit(X_train_std, y_train) \n",
    "\n",
    "# Predict the labels of the test set: y_pred\n",
    "y_pred_rf = rf_model.predict(X_test_std)\n",
    "\n",
    "# Use score method to get accuracy of model\n",
    "score_rf = rf_model.score(X_test_std, y_test)"
   ]
  },
  {
   "cell_type": "code",
   "execution_count": 48,
   "metadata": {},
   "outputs": [
    {
     "data": {
      "image/png": "[encoded data removed]",
      "text/plain": [
       "<Figure size 504x504 with 2 Axes>"
      ]
     },
     "metadata": {
      "needs_background": "light"
     },
     "output_type": "display_data"
    }
   ],
   "source": [
    "# Compute and visualize confusion matrix \n",
    "cm_rf = confusion_matrix(y_test, y_pred_rf)\n",
    "\n",
    "plt.figure(figsize=(7,7))\n",
    "sns.heatmap(cm_rf, annot=True,  annot_kws={\"size\": 20}, fmt=\".3f\", linewidths=.5, square = True, cmap = 'Blues_r');\n",
    "plt.ylabel('Actual label');\n",
    "plt.xlabel('Predicted label');\n",
    "all_sample_title = 'Random Forest - Accuracy Score: {:.2f}'.format(score_rf)\n",
    "\n",
    "plt.title(all_sample_title, size = 15)\n",
    "plt.show()\n"
   ]
  },
  {
   "cell_type": "code",
   "execution_count": 49,
   "metadata": {},
   "outputs": [
    {
     "data": {
      "image/png": "[encoded data removed]",
      "text/plain": [
       "<Figure size 432x288 with 1 Axes>"
      ]
     },
     "metadata": {
      "needs_background": "light"
     },
     "output_type": "display_data"
    }
   ],
   "source": [
    "# Compute predicted probabilities: y_pred_prob\n",
    "y_pred_prob_rf = rf_model.predict_proba(X_test_std)[:,1]\n",
    "\n",
    "# Generate ROC curve values: fpr, tpr, thresholds\n",
    "fpr_rf, tpr_rf, thresholds_rf = roc_curve(y_test, y_pred_prob_rf)\n",
    "\n",
    "auc_rf = roc_auc_score(y_test, y_pred_prob_rf)\n",
    "\n",
    "# Plot ROC curve\n",
    "plt.plot([0, 1], [0, 1], 'r--')\n",
    "\n",
    "plt.plot(fpr_rf, tpr_rf, label = 'ROC curve (AUC = %0.2f)' % auc_rf)\n",
    "plt.xlabel('False Positive Rate')\n",
    "plt.ylabel('True Positive Rate')\n",
    "plt.title('ROC Curve Random Forest')\n",
    "plt.legend(loc='lower right')\n",
    "plt.show()"
   ]
  },
  {
   "cell_type": "markdown",
   "metadata": {},
   "source": [
    "<div class=\"span5 alert alert-info\">\n",
    "<font color=green> Selecting 20 variables that appear most frequently in random forests. </font>"
   ]
  },
  {
   "cell_type": "code",
   "execution_count": 50,
   "metadata": {},
   "outputs": [],
   "source": [
    "importances = rf_model.feature_importances_\n",
    "\n",
    "# get column names of top 20 features in ascending order\n",
    "indices = importances.argsort()[-20:][::-1].tolist()\n",
    "top20 = X_train.columns[indices][::-1].tolist()"
   ]
  },
  {
   "cell_type": "code",
   "execution_count": 51,
   "metadata": {},
   "outputs": [],
   "source": [
    "column_names = ['Total Family Income', 'White Student Percentage', 'Relatives In County', 'Parent Education Level',\n",
    "                'Self Esteem Scale', 'Desired Job Prestige score', 'Parent Arrival Year', 'Desired Job SEI score',\n",
    "                'Friends Full-time Job Post-HS',\"Parent's Education Expectation\", 'Parent Monthly Earnings', \n",
    "                'Subsidized School Lunch Eligibility %', 'Respondent Educational Expectation', \"Father Occupational Prestige\",\n",
    "                \"Father's SEI score\", 'Parent SES Index', 'Stanford Reading score', 'Stanford math score', \n",
    "                'Middle School GPA', 'High School GPA']\n",
    "\n",
    "column_names = column_names[::-1]"
   ]
  },
  {
   "cell_type": "code",
   "execution_count": 75,
   "metadata": {},
   "outputs": [
    {
     "data": {
      "text/plain": [
       "<matplotlib.axes._subplots.AxesSubplot at 0x2a036163390>"
      ]
     },
     "execution_count": 75,
     "metadata": {},
     "output_type": "execute_result"
    },
    {
     "data": {
      "image/png": "[encoded data removed]",
      "text/plain": [
       "<Figure size 648x648 with 1 Axes>"
      ]
     },
     "metadata": {
      "needs_background": "light"
     },
     "output_type": "display_data"
    }
   ],
   "source": [
    "feat_importances = pd.Series(importances[indices], index= column_names)\n",
    "feat_importances.plot(kind='barh', figsize = (9,9), title = \"Feature Importance\")"
   ]
  }
 ],
 "metadata": {
  "kernelspec": {
   "display_name": "Python 3",
   "language": "python",
   "name": "python3"
  },
  "language_info": {
   "codemirror_mode": {
    "name": "ipython",
    "version": 3
   },
   "file_extension": ".py",
   "mimetype": "text/x-python",
   "name": "python",
   "nbconvert_exporter": "python",
   "pygments_lexer": "ipython3",
   "version": "3.7.3"
  }
 },
 "nbformat": 4,
 "nbformat_minor": 2
}
